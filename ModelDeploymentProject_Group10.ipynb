{
  "cells": [
    {
      "cell_type": "markdown",
      "metadata": {
        "id": "QKNshJgS3wPt"
      },
      "source": [
        "**Group 10**\n",
        "\n",
        "Members :\n",
        "\n",
        "- Natasha Kayla Cahyadi - 2702235891\n",
        "- Jeremy Djohar Riyadi - 2702219572\n",
        "\n",
        "Class : LC09 - Model Deployment"
      ]
    },
    {
      "cell_type": "markdown",
      "metadata": {
        "id": "V6tFu6I86tA1"
      },
      "source": [
        "# Libraries"
      ]
    },
    {
      "cell_type": "code",
      "execution_count": 44,
      "metadata": {
        "id": "Lu_np9AW1tYD"
      },
      "outputs": [],
      "source": [
        "import pandas as pd\n",
        "import numpy as np\n",
        "\n",
        "from matplotlib import pyplot as plt\n",
        "import seaborn as sns\n",
        "\n",
        "from sklearn.feature_extraction.text import TfidfVectorizer\n",
        "from sklearn.metrics.pairwise import linear_kernel\n",
        "from sklearn.metrics.pairwise import cosine_similarity\n",
        "import pickle as pkl"
      ]
    },
    {
      "cell_type": "markdown",
      "metadata": {
        "id": "_L6RRPZ36wzW"
      },
      "source": [
        "# Data Preparation"
      ]
    },
    {
      "cell_type": "code",
      "execution_count": 45,
      "metadata": {
        "id": "_0l1qQl26xq7"
      },
      "outputs": [],
      "source": [
        "# Read the Data\n",
        "df = pd.read_csv('netflix_titles.csv')"
      ]
    },
    {
      "cell_type": "code",
      "execution_count": 46,
      "metadata": {
        "colab": {
          "base_uri": "https://localhost:8080/",
          "height": 293
        },
        "id": "dJIxGvub62Mh",
        "outputId": "0490df65-0c34-492a-89f0-560bcb94a6e9"
      },
      "outputs": [
        {
          "data": {
            "text/html": [
              "<div>\n",
              "<style scoped>\n",
              "    .dataframe tbody tr th:only-of-type {\n",
              "        vertical-align: middle;\n",
              "    }\n",
              "\n",
              "    .dataframe tbody tr th {\n",
              "        vertical-align: top;\n",
              "    }\n",
              "\n",
              "    .dataframe thead th {\n",
              "        text-align: right;\n",
              "    }\n",
              "</style>\n",
              "<table border=\"1\" class=\"dataframe\">\n",
              "  <thead>\n",
              "    <tr style=\"text-align: right;\">\n",
              "      <th></th>\n",
              "      <th>show_id</th>\n",
              "      <th>type</th>\n",
              "      <th>title</th>\n",
              "      <th>director</th>\n",
              "      <th>cast</th>\n",
              "      <th>country</th>\n",
              "      <th>date_added</th>\n",
              "      <th>release_year</th>\n",
              "      <th>rating</th>\n",
              "      <th>duration</th>\n",
              "      <th>listed_in</th>\n",
              "      <th>description</th>\n",
              "    </tr>\n",
              "  </thead>\n",
              "  <tbody>\n",
              "    <tr>\n",
              "      <th>0</th>\n",
              "      <td>s1</td>\n",
              "      <td>Movie</td>\n",
              "      <td>Dick Johnson Is Dead</td>\n",
              "      <td>Kirsten Johnson</td>\n",
              "      <td>NaN</td>\n",
              "      <td>United States</td>\n",
              "      <td>September 25, 2021</td>\n",
              "      <td>2020</td>\n",
              "      <td>PG-13</td>\n",
              "      <td>90 min</td>\n",
              "      <td>Documentaries</td>\n",
              "      <td>As her father nears the end of his life, filmm...</td>\n",
              "    </tr>\n",
              "    <tr>\n",
              "      <th>1</th>\n",
              "      <td>s2</td>\n",
              "      <td>TV Show</td>\n",
              "      <td>Blood &amp; Water</td>\n",
              "      <td>NaN</td>\n",
              "      <td>Ama Qamata, Khosi Ngema, Gail Mabalane, Thaban...</td>\n",
              "      <td>South Africa</td>\n",
              "      <td>September 24, 2021</td>\n",
              "      <td>2021</td>\n",
              "      <td>TV-MA</td>\n",
              "      <td>2 Seasons</td>\n",
              "      <td>International TV Shows, TV Dramas, TV Mysteries</td>\n",
              "      <td>After crossing paths at a party, a Cape Town t...</td>\n",
              "    </tr>\n",
              "    <tr>\n",
              "      <th>2</th>\n",
              "      <td>s3</td>\n",
              "      <td>TV Show</td>\n",
              "      <td>Ganglands</td>\n",
              "      <td>Julien Leclercq</td>\n",
              "      <td>Sami Bouajila, Tracy Gotoas, Samuel Jouy, Nabi...</td>\n",
              "      <td>NaN</td>\n",
              "      <td>September 24, 2021</td>\n",
              "      <td>2021</td>\n",
              "      <td>TV-MA</td>\n",
              "      <td>1 Season</td>\n",
              "      <td>Crime TV Shows, International TV Shows, TV Act...</td>\n",
              "      <td>To protect his family from a powerful drug lor...</td>\n",
              "    </tr>\n",
              "    <tr>\n",
              "      <th>3</th>\n",
              "      <td>s4</td>\n",
              "      <td>TV Show</td>\n",
              "      <td>Jailbirds New Orleans</td>\n",
              "      <td>NaN</td>\n",
              "      <td>NaN</td>\n",
              "      <td>NaN</td>\n",
              "      <td>September 24, 2021</td>\n",
              "      <td>2021</td>\n",
              "      <td>TV-MA</td>\n",
              "      <td>1 Season</td>\n",
              "      <td>Docuseries, Reality TV</td>\n",
              "      <td>Feuds, flirtations and toilet talk go down amo...</td>\n",
              "    </tr>\n",
              "    <tr>\n",
              "      <th>4</th>\n",
              "      <td>s5</td>\n",
              "      <td>TV Show</td>\n",
              "      <td>Kota Factory</td>\n",
              "      <td>NaN</td>\n",
              "      <td>Mayur More, Jitendra Kumar, Ranjan Raj, Alam K...</td>\n",
              "      <td>India</td>\n",
              "      <td>September 24, 2021</td>\n",
              "      <td>2021</td>\n",
              "      <td>TV-MA</td>\n",
              "      <td>2 Seasons</td>\n",
              "      <td>International TV Shows, Romantic TV Shows, TV ...</td>\n",
              "      <td>In a city of coaching centers known to train I...</td>\n",
              "    </tr>\n",
              "  </tbody>\n",
              "</table>\n",
              "</div>"
            ],
            "text/plain": [
              "  show_id     type                  title         director  \\\n",
              "0      s1    Movie   Dick Johnson Is Dead  Kirsten Johnson   \n",
              "1      s2  TV Show          Blood & Water              NaN   \n",
              "2      s3  TV Show              Ganglands  Julien Leclercq   \n",
              "3      s4  TV Show  Jailbirds New Orleans              NaN   \n",
              "4      s5  TV Show           Kota Factory              NaN   \n",
              "\n",
              "                                                cast        country  \\\n",
              "0                                                NaN  United States   \n",
              "1  Ama Qamata, Khosi Ngema, Gail Mabalane, Thaban...   South Africa   \n",
              "2  Sami Bouajila, Tracy Gotoas, Samuel Jouy, Nabi...            NaN   \n",
              "3                                                NaN            NaN   \n",
              "4  Mayur More, Jitendra Kumar, Ranjan Raj, Alam K...          India   \n",
              "\n",
              "           date_added  release_year rating   duration  \\\n",
              "0  September 25, 2021          2020  PG-13     90 min   \n",
              "1  September 24, 2021          2021  TV-MA  2 Seasons   \n",
              "2  September 24, 2021          2021  TV-MA   1 Season   \n",
              "3  September 24, 2021          2021  TV-MA   1 Season   \n",
              "4  September 24, 2021          2021  TV-MA  2 Seasons   \n",
              "\n",
              "                                           listed_in  \\\n",
              "0                                      Documentaries   \n",
              "1    International TV Shows, TV Dramas, TV Mysteries   \n",
              "2  Crime TV Shows, International TV Shows, TV Act...   \n",
              "3                             Docuseries, Reality TV   \n",
              "4  International TV Shows, Romantic TV Shows, TV ...   \n",
              "\n",
              "                                         description  \n",
              "0  As her father nears the end of his life, filmm...  \n",
              "1  After crossing paths at a party, a Cape Town t...  \n",
              "2  To protect his family from a powerful drug lor...  \n",
              "3  Feuds, flirtations and toilet talk go down amo...  \n",
              "4  In a city of coaching centers known to train I...  "
            ]
          },
          "execution_count": 46,
          "metadata": {},
          "output_type": "execute_result"
        }
      ],
      "source": [
        "# Display the Data\n",
        "df.head()"
      ]
    },
    {
      "cell_type": "code",
      "execution_count": null,
      "metadata": {
        "colab": {
          "base_uri": "https://localhost:8080/"
        },
        "id": "XMZY3eSr63ja",
        "outputId": "d25e6668-b375-4978-ae93-7314c123904b"
      },
      "outputs": [
        {
          "data": {
            "text/plain": [
              "(8807, 12)"
            ]
          },
          "execution_count": 47,
          "metadata": {},
          "output_type": "execute_result"
        }
      ],
      "source": [
        "# Show the number of rows and columns in the dataset\n",
        "df.shape"
      ]
    },
    {
      "cell_type": "code",
      "execution_count": 48,
      "metadata": {
        "colab": {
          "base_uri": "https://localhost:8080/"
        },
        "id": "KWxfj1Wr694A",
        "outputId": "fa06882f-adbd-469b-be6a-b0133beb15b5"
      },
      "outputs": [
        {
          "data": {
            "text/plain": [
              "Index(['show_id', 'type', 'title', 'director', 'cast', 'country', 'date_added',\n",
              "       'release_year', 'rating', 'duration', 'listed_in', 'description'],\n",
              "      dtype='object')"
            ]
          },
          "execution_count": 48,
          "metadata": {},
          "output_type": "execute_result"
        }
      ],
      "source": [
        "# Show data columns\n",
        "df.columns"
      ]
    },
    {
      "cell_type": "code",
      "execution_count": 49,
      "metadata": {
        "colab": {
          "base_uri": "https://localhost:8080/"
        },
        "id": "wb-ChFkq6_E1",
        "outputId": "0ae7910a-4460-4c52-dc4d-f8b3508c400b"
      },
      "outputs": [
        {
          "name": "stdout",
          "output_type": "stream",
          "text": [
            "<class 'pandas.core.frame.DataFrame'>\n",
            "RangeIndex: 8807 entries, 0 to 8806\n",
            "Data columns (total 12 columns):\n",
            " #   Column        Non-Null Count  Dtype \n",
            "---  ------        --------------  ----- \n",
            " 0   show_id       8807 non-null   object\n",
            " 1   type          8807 non-null   object\n",
            " 2   title         8807 non-null   object\n",
            " 3   director      6173 non-null   object\n",
            " 4   cast          7982 non-null   object\n",
            " 5   country       7976 non-null   object\n",
            " 6   date_added    8797 non-null   object\n",
            " 7   release_year  8807 non-null   int64 \n",
            " 8   rating        8803 non-null   object\n",
            " 9   duration      8804 non-null   object\n",
            " 10  listed_in     8807 non-null   object\n",
            " 11  description   8807 non-null   object\n",
            "dtypes: int64(1), object(11)\n",
            "memory usage: 825.8+ KB\n"
          ]
        }
      ],
      "source": [
        "# Show info of the data\n",
        "df.info()"
      ]
    },
    {
      "cell_type": "code",
      "execution_count": 50,
      "metadata": {
        "colab": {
          "base_uri": "https://localhost:8080/",
          "height": 300
        },
        "id": "htapvYUD8TMs",
        "outputId": "9334aca2-7797-4d31-e6d0-a9841aa4f215"
      },
      "outputs": [
        {
          "data": {
            "text/html": [
              "<div>\n",
              "<style scoped>\n",
              "    .dataframe tbody tr th:only-of-type {\n",
              "        vertical-align: middle;\n",
              "    }\n",
              "\n",
              "    .dataframe tbody tr th {\n",
              "        vertical-align: top;\n",
              "    }\n",
              "\n",
              "    .dataframe thead th {\n",
              "        text-align: right;\n",
              "    }\n",
              "</style>\n",
              "<table border=\"1\" class=\"dataframe\">\n",
              "  <thead>\n",
              "    <tr style=\"text-align: right;\">\n",
              "      <th></th>\n",
              "      <th>release_year</th>\n",
              "    </tr>\n",
              "  </thead>\n",
              "  <tbody>\n",
              "    <tr>\n",
              "      <th>count</th>\n",
              "      <td>8807.000000</td>\n",
              "    </tr>\n",
              "    <tr>\n",
              "      <th>mean</th>\n",
              "      <td>2014.180198</td>\n",
              "    </tr>\n",
              "    <tr>\n",
              "      <th>std</th>\n",
              "      <td>8.819312</td>\n",
              "    </tr>\n",
              "    <tr>\n",
              "      <th>min</th>\n",
              "      <td>1925.000000</td>\n",
              "    </tr>\n",
              "    <tr>\n",
              "      <th>25%</th>\n",
              "      <td>2013.000000</td>\n",
              "    </tr>\n",
              "    <tr>\n",
              "      <th>50%</th>\n",
              "      <td>2017.000000</td>\n",
              "    </tr>\n",
              "    <tr>\n",
              "      <th>75%</th>\n",
              "      <td>2019.000000</td>\n",
              "    </tr>\n",
              "    <tr>\n",
              "      <th>max</th>\n",
              "      <td>2021.000000</td>\n",
              "    </tr>\n",
              "  </tbody>\n",
              "</table>\n",
              "</div>"
            ],
            "text/plain": [
              "       release_year\n",
              "count   8807.000000\n",
              "mean    2014.180198\n",
              "std        8.819312\n",
              "min     1925.000000\n",
              "25%     2013.000000\n",
              "50%     2017.000000\n",
              "75%     2019.000000\n",
              "max     2021.000000"
            ]
          },
          "execution_count": 50,
          "metadata": {},
          "output_type": "execute_result"
        }
      ],
      "source": [
        "# Show statistics descriptive\n",
        "df.describe()"
      ]
    },
    {
      "cell_type": "code",
      "execution_count": 51,
      "metadata": {
        "colab": {
          "base_uri": "https://localhost:8080/",
          "height": 460
        },
        "id": "IwUgYZ9o8Viv",
        "outputId": "461f766b-29cc-44e8-c5d3-514b45009c12"
      },
      "outputs": [
        {
          "data": {
            "text/plain": [
              "show_id         8807\n",
              "type               2\n",
              "title           8807\n",
              "director        4528\n",
              "cast            7692\n",
              "country          748\n",
              "date_added      1767\n",
              "release_year      74\n",
              "rating            17\n",
              "duration         220\n",
              "listed_in        514\n",
              "description     8775\n",
              "dtype: int64"
            ]
          },
          "execution_count": 51,
          "metadata": {},
          "output_type": "execute_result"
        }
      ],
      "source": [
        "# Show unique number\n",
        "df.nunique()"
      ]
    },
    {
      "cell_type": "markdown",
      "metadata": {
        "id": "5Bgz9mTKJ1-F"
      },
      "source": [
        "**show_id** has the most unique number because that column is an identifier and should have different number in each row."
      ]
    },
    {
      "cell_type": "markdown",
      "metadata": {
        "id": "eU4KvsET8j4x"
      },
      "source": [
        "# Data Preprocessing"
      ]
    },
    {
      "cell_type": "code",
      "execution_count": 52,
      "metadata": {
        "id": "km9VaEEa7BiA"
      },
      "outputs": [],
      "source": [
        "df = df[df['type'] == 'Movie']"
      ]
    },
    {
      "cell_type": "markdown",
      "metadata": {
        "id": "do_pE1xsKGH-"
      },
      "source": [
        "We were only using the column type **movie** because the task specifically asks us to display **the top 5 movies**."
      ]
    },
    {
      "cell_type": "code",
      "execution_count": 53,
      "metadata": {
        "colab": {
          "base_uri": "https://localhost:8080/"
        },
        "id": "d3a5qrIo7jKy",
        "outputId": "c2c4730a-63e3-4349-8aa2-e6077e6a20e7"
      },
      "outputs": [
        {
          "name": "stdout",
          "output_type": "stream",
          "text": [
            "<class 'pandas.core.frame.DataFrame'>\n",
            "Index: 6131 entries, 0 to 8806\n",
            "Data columns (total 12 columns):\n",
            " #   Column        Non-Null Count  Dtype \n",
            "---  ------        --------------  ----- \n",
            " 0   show_id       6131 non-null   object\n",
            " 1   type          6131 non-null   object\n",
            " 2   title         6131 non-null   object\n",
            " 3   director      5943 non-null   object\n",
            " 4   cast          5656 non-null   object\n",
            " 5   country       5691 non-null   object\n",
            " 6   date_added    6131 non-null   object\n",
            " 7   release_year  6131 non-null   int64 \n",
            " 8   rating        6129 non-null   object\n",
            " 9   duration      6128 non-null   object\n",
            " 10  listed_in     6131 non-null   object\n",
            " 11  description   6131 non-null   object\n",
            "dtypes: int64(1), object(11)\n",
            "memory usage: 622.7+ KB\n"
          ]
        }
      ],
      "source": [
        "df.info()"
      ]
    },
    {
      "cell_type": "markdown",
      "metadata": {
        "id": "fxsTyYhOJi-q"
      },
      "source": [
        "## Drop Type Column"
      ]
    },
    {
      "cell_type": "code",
      "execution_count": 54,
      "metadata": {
        "colab": {
          "base_uri": "https://localhost:8080/"
        },
        "id": "sq-mswcfJl5m",
        "outputId": "1d8ebcec-6081-4cd0-d928-983e32ef3646"
      },
      "outputs": [],
      "source": [
        "df.drop(columns=['type'], inplace=True)"
      ]
    },
    {
      "cell_type": "markdown",
      "metadata": {
        "id": "wpfFklWKLAIF"
      },
      "source": [
        "The **type** column was dropped because all entries in the dataset were movies, so the column was no longer needed."
      ]
    },
    {
      "cell_type": "markdown",
      "metadata": {
        "id": "dsn6OYhs8rVz"
      },
      "source": [
        "## Drop Identifier"
      ]
    },
    {
      "cell_type": "code",
      "execution_count": 55,
      "metadata": {
        "colab": {
          "base_uri": "https://localhost:8080/"
        },
        "id": "BE0VNkoy8sSw",
        "outputId": "8e5c9e82-5e19-48b1-c32c-11a4b1934ea3"
      },
      "outputs": [],
      "source": [
        "# Drop index column\n",
        "df.drop(columns=['show_id'], inplace=True)"
      ]
    },
    {
      "cell_type": "markdown",
      "metadata": {
        "id": "z_JePbHKLbCk"
      },
      "source": [
        "The **show_id** column was also dropped because itb contained unique values and was not needed when building the recommender system."
      ]
    },
    {
      "cell_type": "code",
      "execution_count": 56,
      "metadata": {
        "colab": {
          "base_uri": "https://localhost:8080/",
          "height": 293
        },
        "id": "De5SuPIi9Mwm",
        "outputId": "c9d923ba-8e1d-4a2f-a7f8-f3d7b1f63f0a"
      },
      "outputs": [
        {
          "data": {
            "text/html": [
              "<div>\n",
              "<style scoped>\n",
              "    .dataframe tbody tr th:only-of-type {\n",
              "        vertical-align: middle;\n",
              "    }\n",
              "\n",
              "    .dataframe tbody tr th {\n",
              "        vertical-align: top;\n",
              "    }\n",
              "\n",
              "    .dataframe thead th {\n",
              "        text-align: right;\n",
              "    }\n",
              "</style>\n",
              "<table border=\"1\" class=\"dataframe\">\n",
              "  <thead>\n",
              "    <tr style=\"text-align: right;\">\n",
              "      <th></th>\n",
              "      <th>title</th>\n",
              "      <th>director</th>\n",
              "      <th>cast</th>\n",
              "      <th>country</th>\n",
              "      <th>date_added</th>\n",
              "      <th>release_year</th>\n",
              "      <th>rating</th>\n",
              "      <th>duration</th>\n",
              "      <th>listed_in</th>\n",
              "      <th>description</th>\n",
              "    </tr>\n",
              "  </thead>\n",
              "  <tbody>\n",
              "    <tr>\n",
              "      <th>0</th>\n",
              "      <td>Dick Johnson Is Dead</td>\n",
              "      <td>Kirsten Johnson</td>\n",
              "      <td>NaN</td>\n",
              "      <td>United States</td>\n",
              "      <td>September 25, 2021</td>\n",
              "      <td>2020</td>\n",
              "      <td>PG-13</td>\n",
              "      <td>90 min</td>\n",
              "      <td>Documentaries</td>\n",
              "      <td>As her father nears the end of his life, filmm...</td>\n",
              "    </tr>\n",
              "    <tr>\n",
              "      <th>6</th>\n",
              "      <td>My Little Pony: A New Generation</td>\n",
              "      <td>Robert Cullen, José Luis Ucha</td>\n",
              "      <td>Vanessa Hudgens, Kimiko Glenn, James Marsden, ...</td>\n",
              "      <td>NaN</td>\n",
              "      <td>September 24, 2021</td>\n",
              "      <td>2021</td>\n",
              "      <td>PG</td>\n",
              "      <td>91 min</td>\n",
              "      <td>Children &amp; Family Movies</td>\n",
              "      <td>Equestria's divided. But a bright-eyed hero be...</td>\n",
              "    </tr>\n",
              "    <tr>\n",
              "      <th>7</th>\n",
              "      <td>Sankofa</td>\n",
              "      <td>Haile Gerima</td>\n",
              "      <td>Kofi Ghanaba, Oyafunmike Ogunlano, Alexandra D...</td>\n",
              "      <td>United States, Ghana, Burkina Faso, United Kin...</td>\n",
              "      <td>September 24, 2021</td>\n",
              "      <td>1993</td>\n",
              "      <td>TV-MA</td>\n",
              "      <td>125 min</td>\n",
              "      <td>Dramas, Independent Movies, International Movies</td>\n",
              "      <td>On a photo shoot in Ghana, an American model s...</td>\n",
              "    </tr>\n",
              "    <tr>\n",
              "      <th>9</th>\n",
              "      <td>The Starling</td>\n",
              "      <td>Theodore Melfi</td>\n",
              "      <td>Melissa McCarthy, Chris O'Dowd, Kevin Kline, T...</td>\n",
              "      <td>United States</td>\n",
              "      <td>September 24, 2021</td>\n",
              "      <td>2021</td>\n",
              "      <td>PG-13</td>\n",
              "      <td>104 min</td>\n",
              "      <td>Comedies, Dramas</td>\n",
              "      <td>A woman adjusting to life after a loss contend...</td>\n",
              "    </tr>\n",
              "    <tr>\n",
              "      <th>12</th>\n",
              "      <td>Je Suis Karl</td>\n",
              "      <td>Christian Schwochow</td>\n",
              "      <td>Luna Wedler, Jannis Niewöhner, Milan Peschel, ...</td>\n",
              "      <td>Germany, Czech Republic</td>\n",
              "      <td>September 23, 2021</td>\n",
              "      <td>2021</td>\n",
              "      <td>TV-MA</td>\n",
              "      <td>127 min</td>\n",
              "      <td>Dramas, International Movies</td>\n",
              "      <td>After most of her family is murdered in a terr...</td>\n",
              "    </tr>\n",
              "  </tbody>\n",
              "</table>\n",
              "</div>"
            ],
            "text/plain": [
              "                               title                       director  \\\n",
              "0               Dick Johnson Is Dead                Kirsten Johnson   \n",
              "6   My Little Pony: A New Generation  Robert Cullen, José Luis Ucha   \n",
              "7                            Sankofa                   Haile Gerima   \n",
              "9                       The Starling                 Theodore Melfi   \n",
              "12                      Je Suis Karl            Christian Schwochow   \n",
              "\n",
              "                                                 cast  \\\n",
              "0                                                 NaN   \n",
              "6   Vanessa Hudgens, Kimiko Glenn, James Marsden, ...   \n",
              "7   Kofi Ghanaba, Oyafunmike Ogunlano, Alexandra D...   \n",
              "9   Melissa McCarthy, Chris O'Dowd, Kevin Kline, T...   \n",
              "12  Luna Wedler, Jannis Niewöhner, Milan Peschel, ...   \n",
              "\n",
              "                                              country          date_added  \\\n",
              "0                                       United States  September 25, 2021   \n",
              "6                                                 NaN  September 24, 2021   \n",
              "7   United States, Ghana, Burkina Faso, United Kin...  September 24, 2021   \n",
              "9                                       United States  September 24, 2021   \n",
              "12                            Germany, Czech Republic  September 23, 2021   \n",
              "\n",
              "    release_year rating duration  \\\n",
              "0           2020  PG-13   90 min   \n",
              "6           2021     PG   91 min   \n",
              "7           1993  TV-MA  125 min   \n",
              "9           2021  PG-13  104 min   \n",
              "12          2021  TV-MA  127 min   \n",
              "\n",
              "                                           listed_in  \\\n",
              "0                                      Documentaries   \n",
              "6                           Children & Family Movies   \n",
              "7   Dramas, Independent Movies, International Movies   \n",
              "9                                   Comedies, Dramas   \n",
              "12                      Dramas, International Movies   \n",
              "\n",
              "                                          description  \n",
              "0   As her father nears the end of his life, filmm...  \n",
              "6   Equestria's divided. But a bright-eyed hero be...  \n",
              "7   On a photo shoot in Ghana, an American model s...  \n",
              "9   A woman adjusting to life after a loss contend...  \n",
              "12  After most of her family is murdered in a terr...  "
            ]
          },
          "execution_count": 56,
          "metadata": {},
          "output_type": "execute_result"
        }
      ],
      "source": [
        "df.head()"
      ]
    },
    {
      "cell_type": "markdown",
      "metadata": {
        "id": "tpVvxsAA9RiE"
      },
      "source": [
        "## Handle Duplicated Data"
      ]
    },
    {
      "cell_type": "code",
      "execution_count": 57,
      "metadata": {
        "colab": {
          "base_uri": "https://localhost:8080/"
        },
        "id": "_HHmup4j9OEV",
        "outputId": "611cf3c8-8f94-41d1-d333-d6e73927e0ec"
      },
      "outputs": [
        {
          "data": {
            "text/plain": [
              "0"
            ]
          },
          "execution_count": 57,
          "metadata": {},
          "output_type": "execute_result"
        }
      ],
      "source": [
        "# Show duplicated data\n",
        "df.duplicated().sum()"
      ]
    },
    {
      "cell_type": "markdown",
      "metadata": {
        "id": "-rgEgf8iLshs"
      },
      "source": [
        "There was **no duplicated values** in this dataset."
      ]
    },
    {
      "cell_type": "markdown",
      "metadata": {
        "id": "Iydko2rE9XTP"
      },
      "source": [
        "## Handle Missing Values"
      ]
    },
    {
      "cell_type": "code",
      "execution_count": 58,
      "metadata": {
        "colab": {
          "base_uri": "https://localhost:8080/",
          "height": 398
        },
        "id": "U_uvgtjC9VGb",
        "outputId": "5c7da712-4f90-479b-bfdd-09f6965f078a"
      },
      "outputs": [
        {
          "data": {
            "text/plain": [
              "title             0\n",
              "director        188\n",
              "cast            475\n",
              "country         440\n",
              "date_added        0\n",
              "release_year      0\n",
              "rating            2\n",
              "duration          3\n",
              "listed_in         0\n",
              "description       0\n",
              "dtype: int64"
            ]
          },
          "execution_count": 58,
          "metadata": {},
          "output_type": "execute_result"
        }
      ],
      "source": [
        "df.isnull().sum()"
      ]
    },
    {
      "cell_type": "code",
      "execution_count": 59,
      "metadata": {
        "id": "NJouWe3Z_HCq"
      },
      "outputs": [],
      "source": [
        "# Replace all missing values with 'Unknown'\n",
        "df.fillna('Unknown', inplace=True)"
      ]
    },
    {
      "cell_type": "markdown",
      "metadata": {
        "id": "Farfm8ydMgwX"
      },
      "source": [
        "We replaced all missing values with **Unknown**, based on the assumption that missing values indicate the information in that column for the given row in unknown."
      ]
    },
    {
      "cell_type": "markdown",
      "metadata": {
        "id": "e7-xAMZoqwOA"
      },
      "source": [
        "## Check Anomalies"
      ]
    },
    {
      "cell_type": "code",
      "execution_count": 60,
      "metadata": {
        "colab": {
          "base_uri": "https://localhost:8080/"
        },
        "id": "iD6hLCeqE-1p",
        "outputId": "a1a2aa1e-c3e1-48b4-a60a-722b34b7759a"
      },
      "outputs": [
        {
          "name": "stdout",
          "output_type": "stream",
          "text": [
            "Categorical: ['title', 'director', 'cast', 'country', 'date_added', 'rating', 'duration', 'listed_in', 'description']\n",
            "Numeric: ['release_year']\n"
          ]
        }
      ],
      "source": [
        "# Make an empty variable to store categorical and numerical columns\n",
        "categorical_columns = []\n",
        "numerical_columns = []\n",
        "\n",
        "# Looping to divide categorical and numerical, then store it to an empty variable that we've made\n",
        "for i in df.columns:\n",
        "    if 'int' in str(df[i].dtype) or 'float' in str(df[i].dtype):\n",
        "        numerical_columns.append(i)\n",
        "    else:\n",
        "        categorical_columns.append(i)\n",
        "\n",
        "# Display the categorical and numerical columns\n",
        "print(f'Categorical: {categorical_columns}')\n",
        "print(f'Numeric: {numerical_columns}')"
      ]
    },
    {
      "cell_type": "markdown",
      "metadata": {
        "id": "5Tps2aTFMtJk"
      },
      "source": [
        "We divided the variables into **categorical** and **numerical** to simplify our data preprocessing."
      ]
    },
    {
      "cell_type": "code",
      "execution_count": 61,
      "metadata": {
        "colab": {
          "base_uri": "https://localhost:8080/"
        },
        "id": "cim1CxNKFAtp",
        "outputId": "851fe0cf-d0d3-46a0-e98f-341850322ed8"
      },
      "outputs": [
        {
          "name": "stdout",
          "output_type": "stream",
          "text": [
            "title\n",
            "Dick Johnson Is Dead            1\n",
            "Balto                           1\n",
            "Bangkok Traffic (Love) Story    1\n",
            "Bangkok Hell                    1\n",
            "Bang Rajan 2                    1\n",
            "                               ..\n",
            "Potato Potahto                  1\n",
            "Luck by Chance                  1\n",
            "Lakshya                         1\n",
            "Karthik Calling Karthik         1\n",
            "Zubaan                          1\n",
            "Name: count, Length: 6131, dtype: int64 \n",
            "\n",
            "director\n",
            "Unknown                       188\n",
            "Rajiv Chilaka                  19\n",
            "Raúl Campos, Jan Suter         18\n",
            "Suhas Kadav                    16\n",
            "Marcus Raboy                   15\n",
            "                             ... \n",
            "Sion Sono                       1\n",
            "Dennis Rovira van Boekholt      1\n",
            "Naoto Amazutsumi                1\n",
            "Jenny Gage                      1\n",
            "Mozez Singh                     1\n",
            "Name: count, Length: 4355, dtype: int64 \n",
            "\n",
            "cast\n",
            "Unknown                                                                                                                                                                               475\n",
            "Vatsal Dubey, Julie Tejwani, Rupa Bhimani, Jigna Bhardwaj, Rajesh Kava, Mousam, Swapnil                                                                                                13\n",
            "Samuel West                                                                                                                                                                            10\n",
            "Jeff Dunham                                                                                                                                                                             7\n",
            "Kevin Hart                                                                                                                                                                              6\n",
            "                                                                                                                                                                                     ... \n",
            "Hánssel Casillas, Loreto Peralta, Andrea Sutton, Luis De La Rosa, Alejandro Flores, Anajosé Aldrete, Daniel Haddad, Montserrat Marañón, Juan Carlos Viana Prieto, Hernán Del Riego      1\n",
            "Oscar Martínez, Inma Cuesta, Mafalda Carbonell, Nacho López, Isabel Requena, Aina Clotet, Antonio Valero, María Zamora, Hugo Balaguer, Valeria Schoneveld                               1\n",
            "Casey Affleck, Rooney Mara, Liz Franke, Rob Zabrecky, Will Oldham, Sonia Acevedo                                                                                                        1\n",
            "Faizon Love, Kirk Fox, Tony Todd, Pearl Thusi, Cassie Clare, Fiona Ramsey, Neels Clasen, Roxy Nel                                                                                       1\n",
            "Vicky Kaushal, Sarah-Jane Dias, Raaghav Chanana, Manish Chaudhary, Meghna Malik, Malkeet Rauni, Anita Shabdish, Chittaranjan Tripathy                                                   1\n",
            "Name: count, Length: 5446, dtype: int64 \n",
            "\n",
            "country\n",
            "United States                            2058\n",
            "India                                     893\n",
            "Unknown                                   440\n",
            "United Kingdom                            206\n",
            "Canada                                    122\n",
            "                                         ... \n",
            "United Kingdom, Russia, United States       1\n",
            "Paraguay, Argentina                         1\n",
            "United Kingdom, Malawi                      1\n",
            "Austria, Iraq, United States                1\n",
            "United Arab Emirates, Jordan                1\n",
            "Name: count, Length: 652, dtype: int64 \n",
            "\n",
            "date_added\n",
            "January 1, 2020      97\n",
            "November 1, 2019     75\n",
            "March 1, 2018        72\n",
            "December 31, 2019    67\n",
            "October 1, 2018      64\n",
            "                     ..\n",
            "October 28, 2017      1\n",
            "October 27, 2017      1\n",
            "October 26, 2017      1\n",
            "October 24, 2017      1\n",
            "January 11, 2020      1\n",
            "Name: count, Length: 1533, dtype: int64 \n",
            "\n",
            "rating\n",
            "TV-MA       2062\n",
            "TV-14       1427\n",
            "R            797\n",
            "TV-PG        540\n",
            "PG-13        490\n",
            "PG           287\n",
            "TV-Y7        139\n",
            "TV-Y         131\n",
            "TV-G         126\n",
            "NR            75\n",
            "G             41\n",
            "TV-Y7-FV       5\n",
            "NC-17          3\n",
            "UR             3\n",
            "Unknown        2\n",
            "74 min         1\n",
            "84 min         1\n",
            "66 min         1\n",
            "Name: count, dtype: int64 \n",
            "\n",
            "duration\n",
            "90 min     152\n",
            "94 min     146\n",
            "93 min     146\n",
            "97 min     146\n",
            "91 min     144\n",
            "          ... \n",
            "16 min       1\n",
            "8 min        1\n",
            "9 min        1\n",
            "208 min      1\n",
            "191 min      1\n",
            "Name: count, Length: 206, dtype: int64 \n",
            "\n",
            "listed_in\n",
            "Dramas, International Movies                        362\n",
            "Documentaries                                       359\n",
            "Stand-Up Comedy                                     334\n",
            "Comedies, Dramas, International Movies              274\n",
            "Dramas, Independent Movies, International Movies    252\n",
            "                                                   ... \n",
            "Sci-Fi & Fantasy                                      1\n",
            "Sports Movies                                         1\n",
            "Children & Family Movies, Comedies, Cult Movies       1\n",
            "Cult Movies, Dramas, Music & Musicals                 1\n",
            "Cult Movies, Dramas, Thrillers                        1\n",
            "Name: count, Length: 278, dtype: int64 \n",
            "\n",
            "description\n",
            "Paranormal activity at a lush, abandoned property alarms a group eager to redevelop the site, but the eerie events may not be as unearthly as they think.    4\n",
            "Challenged to compose 100 songs before he can marry the girl he loves, a tortured but passionate singer-songwriter embarks on a poignant musical journey.    3\n",
            "A surly septuagenarian gets another chance at her 20s after having her photo snapped at a studio that magically takes 50 years off her life.                 3\n",
            "An aspiring musician battles age-old caste divides to be able to learn the art of a classical instrument from a traditionalist, veteran percussionist.       2\n",
            "When Elastigirl gets recruited for a high-profile crime-fighting mission, Mr. Incredible takes on his toughest assignment ever: full-time parenting.         2\n",
            "                                                                                                                                                            ..\n",
            "Engrossed in her career, a young woman reluctantly yields to her father's plan to set her up on 10 dates to find a suitable husband.                         1\n",
            "An unapologetic lothario sets out to seduce three ex-flames – but gets an unexpected education in love along the way.                                        1\n",
            "When a couple leaning toward divorce meets with a pastor for counseling, an unexpected development shakes up their marriage.                                 1\n",
            "A newly engaged couple's romantic vacation in Jamaica turns into a mischievous adventure that tests their union in wild and unexpected ways.                 1\n",
            "A scrappy but poor boy worms his way into a tycoon's dysfunctional family, while facing his fear of music and the truth about his past.                      1\n",
            "Name: count, Length: 6105, dtype: int64 \n",
            "\n"
          ]
        }
      ],
      "source": [
        "# Count the categorical values in each columns\n",
        "for i in categorical_columns:\n",
        "    print(df[i].value_counts(),'\\n')"
      ]
    },
    {
      "cell_type": "markdown",
      "metadata": {
        "id": "-RNGsk-Sq1QC"
      },
      "source": [
        "## Handle the Anomalies"
      ]
    },
    {
      "cell_type": "code",
      "execution_count": 62,
      "metadata": {
        "id": "RXiU5uLCAalu"
      },
      "outputs": [],
      "source": [
        "df['date_added'] = pd.to_datetime(df['date_added'], errors='coerce')"
      ]
    },
    {
      "cell_type": "markdown",
      "metadata": {
        "id": "6XCKk6G61Yj6"
      },
      "source": [
        "The **date_edit** column was converted into the **datetime** datatype so that it could be used for time-based analysis."
      ]
    },
    {
      "cell_type": "code",
      "execution_count": 63,
      "metadata": {
        "colab": {
          "base_uri": "https://localhost:8080/",
          "height": 490
        },
        "id": "W0AUZBRSAwfz",
        "outputId": "d200c9f7-3cf0-4e61-8ab1-a6c27c28842c"
      },
      "outputs": [
        {
          "data": {
            "text/plain": [
              "date_added\n",
              "2020-01-01    97\n",
              "2019-11-01    75\n",
              "2018-03-01    72\n",
              "2019-12-31    67\n",
              "2018-10-01    64\n",
              "              ..\n",
              "2017-10-28     1\n",
              "2017-10-27     1\n",
              "2017-10-26     1\n",
              "2017-10-24     1\n",
              "2020-01-11     1\n",
              "Name: count, Length: 1533, dtype: int64"
            ]
          },
          "execution_count": 63,
          "metadata": {},
          "output_type": "execute_result"
        }
      ],
      "source": [
        "df['date_added'].value_counts()"
      ]
    },
    {
      "cell_type": "code",
      "execution_count": 64,
      "metadata": {
        "id": "kQ1RpnomB5He"
      },
      "outputs": [],
      "source": [
        "df.loc[df['rating'].isin(['UR', 'Unknown']), 'rating'] = 'NR'"
      ]
    },
    {
      "cell_type": "markdown",
      "metadata": {
        "id": "QwfJ4XXj1hjZ"
      },
      "source": [
        "The values **\"NR\"** and **\"Unknown\"** in the **rating** column were replaced with **\"NR\"** to standardize unrated entries."
      ]
    },
    {
      "cell_type": "code",
      "execution_count": 65,
      "metadata": {
        "id": "ey1UTfeJt-7Z"
      },
      "outputs": [],
      "source": [
        "df = df[~df['rating'].isin(['74 min', '66 min', '84 min'])]"
      ]
    },
    {
      "cell_type": "markdown",
      "metadata": {
        "id": "_E4SDyRw12Yr"
      },
      "source": [
        "The values **74 min, 66 min,** and **84 min** were removed from the rating column because they actually represent durations, not age rating categories."
      ]
    },
    {
      "cell_type": "code",
      "execution_count": 66,
      "metadata": {
        "colab": {
          "base_uri": "https://localhost:8080/",
          "height": 523
        },
        "id": "dhPZh8pwCKoq",
        "outputId": "3df7acd7-3869-4343-b624-bf480334fd96"
      },
      "outputs": [
        {
          "data": {
            "text/plain": [
              "rating\n",
              "TV-MA       2062\n",
              "TV-14       1427\n",
              "R            797\n",
              "TV-PG        540\n",
              "PG-13        490\n",
              "PG           287\n",
              "TV-Y7        139\n",
              "TV-Y         131\n",
              "TV-G         126\n",
              "NR            80\n",
              "G             41\n",
              "TV-Y7-FV       5\n",
              "NC-17          3\n",
              "Name: count, dtype: int64"
            ]
          },
          "execution_count": 66,
          "metadata": {},
          "output_type": "execute_result"
        }
      ],
      "source": [
        "df['rating'].value_counts()"
      ]
    },
    {
      "cell_type": "markdown",
      "metadata": {
        "id": "ixEXqO8VDiob"
      },
      "source": [
        "# Exploratory Data Analysis"
      ]
    },
    {
      "cell_type": "markdown",
      "metadata": {
        "id": "J86r9uqZ0eRS"
      },
      "source": [
        "## Check Distribution"
      ]
    },
    {
      "cell_type": "code",
      "execution_count": 67,
      "metadata": {
        "colab": {
          "base_uri": "https://localhost:8080/",
          "height": 368
        },
        "id": "sq4bnyCnDlbR",
        "outputId": "4fb8e90b-8489-419f-9b32-a3e6baea230c"
      },
      "outputs": [
        {
          "data": {
            "image/png": "[encoded data removed]",
            "text/plain": [
              "<Figure size 1000x300 with 2 Axes>"
            ]
          },
          "metadata": {},
          "output_type": "display_data"
        },
        {
          "name": "stdout",
          "output_type": "stream",
          "text": [
            "Skewness: -3.04528337500974\n",
            "Kurtosis: 12.027319321164654\n"
          ]
        }
      ],
      "source": [
        "# Make a plot to check distribution\n",
        "def check_distribution_outliers(df, columns):\n",
        "    for i in columns:\n",
        "        plt.figure(figsize=(10, 3))\n",
        "\n",
        "        # Histogram\n",
        "        plt.subplot(1, 2, 1)\n",
        "        sns.histplot(df[i], bins=30)\n",
        "        plt.title('Histogram')\n",
        "\n",
        "        # Boxplot\n",
        "        plt.subplot(1, 2, 2)\n",
        "        sns.boxplot(y=df[i])\n",
        "        plt.title('Boxplot')\n",
        "\n",
        "        plt.show()\n",
        "\n",
        "        print('Skewness:', df[i].skew())\n",
        "        print('Kurtosis:', df[i].kurt())\n",
        "\n",
        "check_distribution_outliers(df[numerical_columns], numerical_columns)"
      ]
    },
    {
      "cell_type": "markdown",
      "metadata": {
        "id": "Vbb-Z5vr3TgZ"
      },
      "source": [
        "The **release_year** column contains many outliers, and its histogram is right-skewed. However, we did not remove the outliers because the data is valid and reasonable--this distribution indicates that a large number of movies were released after the year 2000."
      ]
    },
    {
      "cell_type": "markdown",
      "metadata": {
        "id": "m5wGgOso0jKi"
      },
      "source": [
        "## Movies Released Over Time"
      ]
    },
    {
      "cell_type": "code",
      "execution_count": 68,
      "metadata": {
        "colab": {
          "base_uri": "https://localhost:8080/",
          "height": 694
        },
        "id": "tXQBq_DM0yME",
        "outputId": "1d6fb385-225b-4b92-8600-bccb4e18a62d"
      },
      "outputs": [
        {
          "name": "stderr",
          "output_type": "stream",
          "text": [
            "C:\\Users\\Jeremy Djohar Riyadi\\AppData\\Local\\Temp\\ipykernel_11544\\939015317.py:3: FutureWarning: \n",
            "\n",
            "Passing `palette` without assigning `hue` is deprecated and will be removed in v0.14.0. Assign the `x` variable to `hue` and set `legend=False` for the same effect.\n",
            "\n",
            "  sns.countplot(data=df, x='release_year', palette='coolwarm', order=sorted(df['release_year'].unique()))\n"
          ]
        },
        {
          "data": {
            "image/png": "[encoded data removed]",
            "text/plain": [
              "<Figure size 1200x600 with 1 Axes>"
            ]
          },
          "metadata": {},
          "output_type": "display_data"
        }
      ],
      "source": [
        "# Movies per release year\n",
        "plt.figure(figsize=(12,6))\n",
        "sns.countplot(data=df, x='release_year', palette='coolwarm', order=sorted(df['release_year'].unique()))\n",
        "plt.title('Number of Movies Released Per Year')\n",
        "plt.xticks(rotation=90)\n",
        "plt.xlabel('Release Year')\n",
        "plt.ylabel('Number of Movies')\n",
        "plt.tight_layout()\n",
        "plt.show()"
      ]
    },
    {
      "cell_type": "markdown",
      "metadata": {
        "id": "cT3FMd0w5qig"
      },
      "source": [
        "**Movies released after 2000** are the most common in the dataset, with a sharp increase in frequency, especially between **2016 and 2020**. Earlier decades, like the **1940s to 1990s**, have significantly fewer releases. This indicates that the movie industry has grown rapidly in recent years, with modern digital platforms contributing to the surge, while older movies make up a smaller portion of the dataset."
      ]
    },
    {
      "cell_type": "markdown",
      "metadata": {
        "id": "S39AEXIZ1ERF"
      },
      "source": [
        "## Top 10 Countries by Number of Movies"
      ]
    },
    {
      "cell_type": "code",
      "execution_count": 69,
      "metadata": {
        "colab": {
          "base_uri": "https://localhost:8080/",
          "height": 694
        },
        "id": "8U1Bugrq1EuB",
        "outputId": "9b04e9e5-8f7c-4b2a-ae8e-d2362d15992f"
      },
      "outputs": [
        {
          "name": "stderr",
          "output_type": "stream",
          "text": [
            "C:\\Users\\Jeremy Djohar Riyadi\\AppData\\Local\\Temp\\ipykernel_11544\\74356114.py:5: FutureWarning: \n",
            "\n",
            "Passing `palette` without assigning `hue` is deprecated and will be removed in v0.14.0. Assign the `y` variable to `hue` and set `legend=False` for the same effect.\n",
            "\n",
            "  sns.barplot(x=top_countries.values, y=top_countries.index, palette=\"viridis\")\n"
          ]
        },
        {
          "data": {
            "image/png": "[encoded data removed]",
            "text/plain": [
              "<Figure size 1000x600 with 1 Axes>"
            ]
          },
          "metadata": {},
          "output_type": "display_data"
        }
      ],
      "source": [
        "# Top countries\n",
        "top_countries = df['country'].dropna().str.split(', ', expand=True).stack().value_counts().head(10)\n",
        "\n",
        "plt.figure(figsize=(10,6))\n",
        "sns.barplot(x=top_countries.values, y=top_countries.index, palette=\"viridis\")\n",
        "plt.title('Top 10 Countries by Number of Movies')\n",
        "plt.xlabel('Number of Movies')\n",
        "plt.ylabel('Country')\n",
        "plt.tight_layout()\n",
        "plt.show()"
      ]
    },
    {
      "cell_type": "markdown",
      "metadata": {
        "id": "ZZGPEI_9IIcf"
      },
      "source": [
        "The **United States** dominates movie production in the dataset, followed by **India** and the **United Kingdom**. Countries like **Canada, France,** and **Germany** contribute moderately, while **Japan, China,** and **Spain** have fewer entries. The **Unknown** category reflects some missing data."
      ]
    },
    {
      "cell_type": "markdown",
      "metadata": {
        "id": "AN9-9owG1hpK"
      },
      "source": [
        "## Most Common Movie Genres"
      ]
    },
    {
      "cell_type": "code",
      "execution_count": 70,
      "metadata": {
        "colab": {
          "base_uri": "https://localhost:8080/",
          "height": 694
        },
        "id": "1yALmpAt1Goo",
        "outputId": "ed0334d9-4602-468c-de8a-a7656cd698ea"
      },
      "outputs": [
        {
          "name": "stderr",
          "output_type": "stream",
          "text": [
            "C:\\Users\\Jeremy Djohar Riyadi\\AppData\\Local\\Temp\\ipykernel_11544\\907918673.py:5: FutureWarning: \n",
            "\n",
            "Passing `palette` without assigning `hue` is deprecated and will be removed in v0.14.0. Assign the `y` variable to `hue` and set `legend=False` for the same effect.\n",
            "\n",
            "  sns.barplot(x=top_genres.values, y=top_genres.index, palette=\"magma\")\n"
          ]
        },
        {
          "data": {
            "image/png": "[encoded data removed]",
            "text/plain": [
              "<Figure size 1000x600 with 1 Axes>"
            ]
          },
          "metadata": {},
          "output_type": "display_data"
        }
      ],
      "source": [
        "# Top genres\n",
        "top_genres = df['listed_in'].str.split(', ', expand=True).stack().value_counts().head(10)\n",
        "\n",
        "plt.figure(figsize=(10,6))\n",
        "sns.barplot(x=top_genres.values, y=top_genres.index, palette=\"magma\")\n",
        "plt.title('Top 10 Most Common Movie Genres')\n",
        "plt.xlabel('Number of Movies')\n",
        "plt.ylabel('Genre')\n",
        "plt.tight_layout()\n",
        "plt.show()"
      ]
    },
    {
      "cell_type": "markdown",
      "metadata": {
        "id": "jKgUlmTTIthT"
      },
      "source": [
        "**International Movies** is the most common genre, with the highest number of movies, followed by **Dramas and Comedies**. Genres like **Documentaries and Action & Adventure** are moderately represented, while genres such as **Thrillers and Music & Musicals** have the lowest frequency. This indicates that international and dramatic storytelling dominates the movie landscape, whereas musical and suspense-driven content caters to a more niche audience."
      ]
    },
    {
      "cell_type": "markdown",
      "metadata": {
        "id": "0EAeaX7NCNJe"
      },
      "source": [
        "## Distribution of Movie Durations"
      ]
    },
    {
      "cell_type": "code",
      "execution_count": 71,
      "metadata": {
        "colab": {
          "base_uri": "https://localhost:8080/",
          "height": 607
        },
        "id": "eIS9fS5zCNil",
        "outputId": "d600bfbc-e837-4231-f95c-0ba08f70eaed"
      },
      "outputs": [
        {
          "data": {
            "image/png": "[encoded data removed]",
            "text/plain": [
              "<Figure size 1000x600 with 1 Axes>"
            ]
          },
          "metadata": {},
          "output_type": "display_data"
        }
      ],
      "source": [
        "# Extract duration in minutes\n",
        "data = df.copy()\n",
        "data['duration_minutes'] = data['duration'].str.extract('(\\d+)').astype(float)\n",
        "\n",
        "plt.figure(figsize=(10,6))\n",
        "sns.histplot(data['duration_minutes'].dropna(), bins=30, kde=True, color=\"skyblue\")\n",
        "plt.title('Distribution of Movie Durations')\n",
        "plt.xlabel('Duration (minutes)')\n",
        "plt.ylabel('Number of Movies')\n",
        "plt.tight_layout()\n",
        "plt.show()"
      ]
    },
    {
      "cell_type": "markdown",
      "metadata": {
        "id": "gEk70yYOJqyg"
      },
      "source": [
        "Most movies have durations between **80 and 120 minutes**, peaking around **90 minutes**, showing that standard feature-length films are the most common. Short (<60 mins) and long (>150 mins) movies are rare, indicating a preference for conventional movie lengths. This distribution is slightly **right-skewed**, with fewer long-duration films."
      ]
    },
    {
      "cell_type": "markdown",
      "metadata": {
        "id": "dqn4PVq4GQA5"
      },
      "source": [
        "## Top 10 Movie Directors"
      ]
    },
    {
      "cell_type": "code",
      "execution_count": 72,
      "metadata": {
        "colab": {
          "base_uri": "https://localhost:8080/",
          "height": 694
        },
        "id": "7nEX9JKYCTs-",
        "outputId": "359b41cc-62b2-43dc-c96f-9a7e387aeb2f"
      },
      "outputs": [
        {
          "name": "stderr",
          "output_type": "stream",
          "text": [
            "C:\\Users\\Jeremy Djohar Riyadi\\AppData\\Local\\Temp\\ipykernel_11544\\2930085076.py:5: FutureWarning: \n",
            "\n",
            "Passing `palette` without assigning `hue` is deprecated and will be removed in v0.14.0. Assign the `y` variable to `hue` and set `legend=False` for the same effect.\n",
            "\n",
            "  sns.barplot(x=top_directors.values, y=top_directors.index, palette=\"cubehelix\")\n"
          ]
        },
        {
          "data": {
            "image/png": "[encoded data removed]",
            "text/plain": [
              "<Figure size 1000x600 with 1 Axes>"
            ]
          },
          "metadata": {},
          "output_type": "display_data"
        }
      ],
      "source": [
        "df = df[df['director'] != 'Unknown']\n",
        "top_directors = df['director'].dropna().value_counts().head(10)\n",
        "\n",
        "plt.figure(figsize=(10,6))\n",
        "sns.barplot(x=top_directors.values, y=top_directors.index, palette=\"cubehelix\")\n",
        "plt.title('Top 10 Movie Directors on Netflix')\n",
        "plt.xlabel('Number of Movies')\n",
        "plt.ylabel('Director')\n",
        "plt.tight_layout()\n",
        "plt.show()"
      ]
    },
    {
      "cell_type": "markdown",
      "metadata": {
        "id": "0LlK7_LWKC1m"
      },
      "source": [
        "**Rajiv Chilaka** has the most movies on Netflix, followed by **Raúl Campos & Jan Suter and Suhas Kadav**. Famous directors like **Martin Scorsese and Steven Spielberg** are also in the top 10, but with fewer movies. This shows that Netflix includes both highly productive and well-known directors."
      ]
    },
    {
      "cell_type": "markdown",
      "metadata": {
        "id": "TQKW6r0JGf0P"
      },
      "source": [
        "## Distribution of Movie Ratings"
      ]
    },
    {
      "cell_type": "code",
      "execution_count": 73,
      "metadata": {
        "colab": {
          "base_uri": "https://localhost:8080/",
          "height": 694
        },
        "id": "gvD_Q95ME5VR",
        "outputId": "5dec30d8-ed2a-4688-b05d-5f5b0b731534"
      },
      "outputs": [
        {
          "name": "stderr",
          "output_type": "stream",
          "text": [
            "C:\\Users\\Jeremy Djohar Riyadi\\AppData\\Local\\Temp\\ipykernel_11544\\517116032.py:4: FutureWarning: \n",
            "\n",
            "Passing `palette` without assigning `hue` is deprecated and will be removed in v0.14.0. Assign the `x` variable to `hue` and set `legend=False` for the same effect.\n",
            "\n",
            "  sns.barplot(x=rating_counts.index, y=rating_counts.values, palette=\"viridis\")\n"
          ]
        },
        {
          "data": {
            "image/png": "[encoded data removed]",
            "text/plain": [
              "<Figure size 1000x600 with 1 Axes>"
            ]
          },
          "metadata": {},
          "output_type": "display_data"
        }
      ],
      "source": [
        "rating_counts = df['rating'].value_counts()\n",
        "\n",
        "plt.figure(figsize=(10,6))\n",
        "sns.barplot(x=rating_counts.index, y=rating_counts.values, palette=\"viridis\")\n",
        "plt.title('Distribution of Movie Ratings')\n",
        "plt.xlabel('Rating')\n",
        "plt.ylabel('Number of Movies')\n",
        "plt.tight_layout()\n",
        "plt.show()"
      ]
    },
    {
      "cell_type": "markdown",
      "metadata": {
        "id": "1TBAH8rBK2rr"
      },
      "source": [
        "**TV-MA** is the most common movie rating on Netflix, followed by **TV-14 and R**. Movies with a **NC-17** rating are very rare in this dataset, showing that Netflix mainly features content suitable for mature and teen audiences, while limiting access to more restricted content."
      ]
    },
    {
      "cell_type": "markdown",
      "metadata": {
        "id": "-Eif2j0-Gk7U"
      },
      "source": [
        "# Modeling"
      ]
    },
    {
      "cell_type": "code",
      "execution_count": 74,
      "metadata": {
        "id": "wEngQXc0HMqa"
      },
      "outputs": [],
      "source": [
        "smd = df.copy()"
      ]
    },
    {
      "cell_type": "code",
      "execution_count": null,
      "metadata": {
        "colab": {
          "base_uri": "https://localhost:8080/",
          "height": 293
        },
        "id": "xuhUxZdNJRzN",
        "outputId": "c3249cb0-3c2b-455c-e738-0ae488bb405c"
      },
      "outputs": [
        {
          "data": {
            "text/html": [
              "<div>\n",
              "<style scoped>\n",
              "    .dataframe tbody tr th:only-of-type {\n",
              "        vertical-align: middle;\n",
              "    }\n",
              "\n",
              "    .dataframe tbody tr th {\n",
              "        vertical-align: top;\n",
              "    }\n",
              "\n",
              "    .dataframe thead th {\n",
              "        text-align: right;\n",
              "    }\n",
              "</style>\n",
              "<table border=\"1\" class=\"dataframe\">\n",
              "  <thead>\n",
              "    <tr style=\"text-align: right;\">\n",
              "      <th></th>\n",
              "      <th>title</th>\n",
              "      <th>director</th>\n",
              "      <th>cast</th>\n",
              "      <th>country</th>\n",
              "      <th>date_added</th>\n",
              "      <th>release_year</th>\n",
              "      <th>rating</th>\n",
              "      <th>duration</th>\n",
              "      <th>listed_in</th>\n",
              "      <th>description</th>\n",
              "    </tr>\n",
              "  </thead>\n",
              "  <tbody>\n",
              "    <tr>\n",
              "      <th>0</th>\n",
              "      <td>Dick Johnson Is Dead</td>\n",
              "      <td>Kirsten Johnson</td>\n",
              "      <td>Unknown</td>\n",
              "      <td>United States</td>\n",
              "      <td>2021-09-25</td>\n",
              "      <td>2020</td>\n",
              "      <td>PG-13</td>\n",
              "      <td>90 min</td>\n",
              "      <td>Documentaries</td>\n",
              "      <td>As her father nears the end of his life, filmm...</td>\n",
              "    </tr>\n",
              "    <tr>\n",
              "      <th>6</th>\n",
              "      <td>My Little Pony: A New Generation</td>\n",
              "      <td>Robert Cullen, José Luis Ucha</td>\n",
              "      <td>Vanessa Hudgens, Kimiko Glenn, James Marsden, ...</td>\n",
              "      <td>Unknown</td>\n",
              "      <td>2021-09-24</td>\n",
              "      <td>2021</td>\n",
              "      <td>PG</td>\n",
              "      <td>91 min</td>\n",
              "      <td>Children &amp; Family Movies</td>\n",
              "      <td>Equestria's divided. But a bright-eyed hero be...</td>\n",
              "    </tr>\n",
              "    <tr>\n",
              "      <th>7</th>\n",
              "      <td>Sankofa</td>\n",
              "      <td>Haile Gerima</td>\n",
              "      <td>Kofi Ghanaba, Oyafunmike Ogunlano, Alexandra D...</td>\n",
              "      <td>United States, Ghana, Burkina Faso, United Kin...</td>\n",
              "      <td>2021-09-24</td>\n",
              "      <td>1993</td>\n",
              "      <td>TV-MA</td>\n",
              "      <td>125 min</td>\n",
              "      <td>Dramas, Independent Movies, International Movies</td>\n",
              "      <td>On a photo shoot in Ghana, an American model s...</td>\n",
              "    </tr>\n",
              "    <tr>\n",
              "      <th>9</th>\n",
              "      <td>The Starling</td>\n",
              "      <td>Theodore Melfi</td>\n",
              "      <td>Melissa McCarthy, Chris O'Dowd, Kevin Kline, T...</td>\n",
              "      <td>United States</td>\n",
              "      <td>2021-09-24</td>\n",
              "      <td>2021</td>\n",
              "      <td>PG-13</td>\n",
              "      <td>104 min</td>\n",
              "      <td>Comedies, Dramas</td>\n",
              "      <td>A woman adjusting to life after a loss contend...</td>\n",
              "    </tr>\n",
              "    <tr>\n",
              "      <th>12</th>\n",
              "      <td>Je Suis Karl</td>\n",
              "      <td>Christian Schwochow</td>\n",
              "      <td>Luna Wedler, Jannis Niewöhner, Milan Peschel, ...</td>\n",
              "      <td>Germany, Czech Republic</td>\n",
              "      <td>2021-09-23</td>\n",
              "      <td>2021</td>\n",
              "      <td>TV-MA</td>\n",
              "      <td>127 min</td>\n",
              "      <td>Dramas, International Movies</td>\n",
              "      <td>After most of her family is murdered in a terr...</td>\n",
              "    </tr>\n",
              "  </tbody>\n",
              "</table>\n",
              "</div>"
            ],
            "text/plain": [
              "                               title                       director  \\\n",
              "0               Dick Johnson Is Dead                Kirsten Johnson   \n",
              "6   My Little Pony: A New Generation  Robert Cullen, José Luis Ucha   \n",
              "7                            Sankofa                   Haile Gerima   \n",
              "9                       The Starling                 Theodore Melfi   \n",
              "12                      Je Suis Karl            Christian Schwochow   \n",
              "\n",
              "                                                 cast  \\\n",
              "0                                             Unknown   \n",
              "6   Vanessa Hudgens, Kimiko Glenn, James Marsden, ...   \n",
              "7   Kofi Ghanaba, Oyafunmike Ogunlano, Alexandra D...   \n",
              "9   Melissa McCarthy, Chris O'Dowd, Kevin Kline, T...   \n",
              "12  Luna Wedler, Jannis Niewöhner, Milan Peschel, ...   \n",
              "\n",
              "                                              country date_added  \\\n",
              "0                                       United States 2021-09-25   \n",
              "6                                             Unknown 2021-09-24   \n",
              "7   United States, Ghana, Burkina Faso, United Kin... 2021-09-24   \n",
              "9                                       United States 2021-09-24   \n",
              "12                            Germany, Czech Republic 2021-09-23   \n",
              "\n",
              "    release_year rating duration  \\\n",
              "0           2020  PG-13   90 min   \n",
              "6           2021     PG   91 min   \n",
              "7           1993  TV-MA  125 min   \n",
              "9           2021  PG-13  104 min   \n",
              "12          2021  TV-MA  127 min   \n",
              "\n",
              "                                           listed_in  \\\n",
              "0                                      Documentaries   \n",
              "6                           Children & Family Movies   \n",
              "7   Dramas, Independent Movies, International Movies   \n",
              "9                                   Comedies, Dramas   \n",
              "12                      Dramas, International Movies   \n",
              "\n",
              "                                          description  \n",
              "0   As her father nears the end of his life, filmm...  \n",
              "6   Equestria's divided. But a bright-eyed hero be...  \n",
              "7   On a photo shoot in Ghana, an American model s...  \n",
              "9   A woman adjusting to life after a loss contend...  \n",
              "12  After most of her family is murdered in a terr...  "
            ]
          },
          "execution_count": 75,
          "metadata": {},
          "output_type": "execute_result"
        }
      ],
      "source": [
        "smd.head()"
      ]
    },
    {
      "cell_type": "code",
      "execution_count": 76,
      "metadata": {
        "id": "tCroy1iNJG-8"
      },
      "outputs": [],
      "source": [
        "smd['text'] = (\n",
        "    smd['title'].fillna('') + ', ' +\n",
        "    (smd['director'].fillna('') + ', ') * 2 +\n",
        "    (smd['cast'].fillna('') + ', ') * 3 +\n",
        "    smd['country'].fillna('') + ', ' +\n",
        "    smd['rating'].fillna('') + ', ' +\n",
        "    (smd['listed_in'].fillna('') + ', ') * 5 +\n",
        "    (smd['description'].fillna('') + ', ') * 2\n",
        "    )\n",
        "smd.dropna(subset=['text'], inplace=True)\n",
        "smd['text'] = smd['text'].str.lower()"
      ]
    },
    {
      "cell_type": "markdown",
      "metadata": {
        "id": "8TXQSVoHMoAs"
      },
      "source": [
        "Several columns like **title**, **director**, **cast**, **country**, **rating**, **listed\\_in**, and **description** are combined into a new column called **text**. Missing values are drop, and extra weight is given to **director**, **cast**, **listed\\_in**, and **description** to highlight their importance. The final text is converted to lowercase for consistency during vectorization."
      ]
    },
    {
      "cell_type": "code",
      "execution_count": 77,
      "metadata": {
        "colab": {
          "base_uri": "https://localhost:8080/"
        },
        "id": "cnmPXdjX6QD4",
        "outputId": "4f9f0ec3-110c-4954-9d32-44f203ba3c6b"
      },
      "outputs": [
        {
          "data": {
            "text/plain": [
              "0"
            ]
          },
          "execution_count": 77,
          "metadata": {},
          "output_type": "execute_result"
        }
      ],
      "source": [
        "x = smd.copy()\n",
        "x = x.drop_duplicates(subset=['text']).reset_index(drop=True)\n",
        "x['text'].duplicated().sum()"
      ]
    },
    {
      "cell_type": "markdown",
      "metadata": {
        "id": "8F48Hy7kNKvk"
      },
      "source": [
        "Duplicates in the **text** column are removed to ensure each movie has a unique text representation, preventing the model from calculating similarity on redundant data."
      ]
    },
    {
      "cell_type": "code",
      "execution_count": 78,
      "metadata": {
        "id": "XKjoL9BVpJ6H"
      },
      "outputs": [],
      "source": [
        "filename = 'x.pkl'\n",
        "pkl.dump(x, open(filename, 'wb'))"
      ]
    },
    {
      "cell_type": "markdown",
      "metadata": {
        "id": "dyEqd6WRNywy"
      },
      "source": [
        "The final dataset is saved as **a pickle file** (x.pkl) for efficient loading in subsequent processes (during deployment with Streamlit)."
      ]
    },
    {
      "cell_type": "markdown",
      "metadata": {
        "id": "DWrYtQ-UNbuO"
      },
      "source": [
        "## TF - IDF"
      ]
    },
    {
      "cell_type": "code",
      "execution_count": 79,
      "metadata": {
        "id": "uUHfx9YINPHa"
      },
      "outputs": [],
      "source": [
        "tfidf = TfidfVectorizer(\n",
        "    stop_words='english',\n",
        "    ngram_range=(1, 2),\n",
        "    min_df=3,\n",
        "    max_df=0.8,\n",
        "    sublinear_tf=True)\n",
        "\n",
        "tfidf_matrix = tfidf.fit_transform(x['text'])\n",
        "cosine_sim = linear_kernel(tfidf_matrix, tfidf_matrix)"
      ]
    },
    {
      "cell_type": "markdown",
      "metadata": {
        "id": "uUosST36UwNJ"
      },
      "source": [
        "The code transforms a collection of text documents into numerical feature vectors using **TF-IDF**, which highlights important terms by reducing the weight of common or overly rare words. It removes English stop words, considers both unigrams and bigrams, includes only terms that appear in at least three documents but no more than 80% of them, and applies sublinear scaling to term frequencies for better balance. The resulting matrix captures the relevance of each term across the corpus. Then, **cosine similarity** is computed using a linear kernel to measure the semantic similarity between all document pairs based on their TF-IDF vectors"
      ]
    },
    {
      "cell_type": "code",
      "execution_count": 80,
      "metadata": {
        "id": "kwix1YpKWUNr"
      },
      "outputs": [],
      "source": [
        "filename = 'tfidf_matrixx.pkl'\n",
        "pkl.dump(tfidf_matrix, open(filename, 'wb'))"
      ]
    },
    {
      "cell_type": "markdown",
      "metadata": {
        "id": "Qt6uZo95VJTs"
      },
      "source": [
        "The fitted TF-IDF vectorizer is saved as a pickle file (`tfidf.pkl`) for efficient reuse during subsequent processes, during deployment with Streamlit"
      ]
    },
    {
      "cell_type": "markdown",
      "metadata": {
        "id": "aUMUax-oNzvO"
      },
      "source": [
        "## Build Recommender System"
      ]
    },
    {
      "cell_type": "code",
      "execution_count": 81,
      "metadata": {
        "id": "zBnHzwsxN1B7"
      },
      "outputs": [],
      "source": [
        "def get_recommendations(title, cosine_sim=cosine_sim, num_recommend = 5):\n",
        "    indices = pd.Series(x.index, index=x['title']).drop_duplicates()\n",
        "    idx = indices[title].iloc[0] if isinstance(indices[title], pd.Series) else indices[title]\n",
        "    sim_scores = list(enumerate(cosine_sim[idx]))\n",
        "    sim_scores = sorted(sim_scores, key=lambda x: x[1], reverse=True)\n",
        "    top_similar = sim_scores[1:num_recommend+1]\n",
        "    movie_indices = [i[0] for i in top_similar]\n",
        "    ret_df = pd.DataFrame(x.iloc[movie_indices])\n",
        "    ret_df['Score'] = [i[1] for i in top_similar]\n",
        "    ret_df = ret_df.drop(columns = ['text'])\n",
        "    return ret_df"
      ]
    },
    {
      "cell_type": "markdown",
      "metadata": {
        "id": "q2mMyyF7VWRd"
      },
      "source": [
        "The `get_recommendations` function returns a list of top-5 recommended items based on a given title. It uses the cosine similarity matrix to find the most similar items, excluding the item itself, and returns a DataFrame containing the recommended titles along with their similarity scores. The resulting DataFrame excludes the original text column for cleaner output"
      ]
    },
    {
      "cell_type": "markdown",
      "metadata": {
        "id": "1cht6PfPOvAC"
      },
      "source": [
        "# Evaluation"
      ]
    },
    {
      "cell_type": "code",
      "execution_count": 82,
      "metadata": {
        "colab": {
          "base_uri": "https://localhost:8080/",
          "height": 293
        },
        "id": "y6662l5TPEaC",
        "outputId": "818dc0e3-78df-4ff1-f63d-d6ef24d62ac9"
      },
      "outputs": [
        {
          "data": {
            "text/html": [
              "<div>\n",
              "<style scoped>\n",
              "    .dataframe tbody tr th:only-of-type {\n",
              "        vertical-align: middle;\n",
              "    }\n",
              "\n",
              "    .dataframe tbody tr th {\n",
              "        vertical-align: top;\n",
              "    }\n",
              "\n",
              "    .dataframe thead th {\n",
              "        text-align: right;\n",
              "    }\n",
              "</style>\n",
              "<table border=\"1\" class=\"dataframe\">\n",
              "  <thead>\n",
              "    <tr style=\"text-align: right;\">\n",
              "      <th></th>\n",
              "      <th>title</th>\n",
              "      <th>director</th>\n",
              "      <th>cast</th>\n",
              "      <th>country</th>\n",
              "      <th>date_added</th>\n",
              "      <th>release_year</th>\n",
              "      <th>rating</th>\n",
              "      <th>duration</th>\n",
              "      <th>listed_in</th>\n",
              "      <th>description</th>\n",
              "      <th>Score</th>\n",
              "    </tr>\n",
              "  </thead>\n",
              "  <tbody>\n",
              "    <tr>\n",
              "      <th>5769</th>\n",
              "      <td>Tokyo Idols</td>\n",
              "      <td>Kyoko Miyake</td>\n",
              "      <td>Unknown</td>\n",
              "      <td>United Kingdom, Canada, Japan</td>\n",
              "      <td>2017-10-01</td>\n",
              "      <td>2017</td>\n",
              "      <td>TV-14</td>\n",
              "      <td>89 min</td>\n",
              "      <td>Documentaries, International Movies, Music &amp; M...</td>\n",
              "      <td>This documentary follows J-Pop idol Rio and he...</td>\n",
              "      <td>0.440081</td>\n",
              "    </tr>\n",
              "    <tr>\n",
              "      <th>2595</th>\n",
              "      <td>Mexicanos de Bronce</td>\n",
              "      <td>Julio Fernández Talamantes</td>\n",
              "      <td>Unknown</td>\n",
              "      <td>Mexico</td>\n",
              "      <td>2018-12-31</td>\n",
              "      <td>2016</td>\n",
              "      <td>TV-MA</td>\n",
              "      <td>100 min</td>\n",
              "      <td>Documentaries, International Movies, Music &amp; M...</td>\n",
              "      <td>When street vices keep them coming back, three...</td>\n",
              "      <td>0.422528</td>\n",
              "    </tr>\n",
              "    <tr>\n",
              "      <th>2021</th>\n",
              "      <td>Wandering Stars</td>\n",
              "      <td>Syrine Boulanouar, Nekfeu</td>\n",
              "      <td>Nekfeu</td>\n",
              "      <td>France</td>\n",
              "      <td>2019-12-01</td>\n",
              "      <td>2019</td>\n",
              "      <td>TV-MA</td>\n",
              "      <td>95 min</td>\n",
              "      <td>Documentaries, International Movies, Music &amp; M...</td>\n",
              "      <td>Navigating creative pressures and personal ups...</td>\n",
              "      <td>0.396516</td>\n",
              "    </tr>\n",
              "    <tr>\n",
              "      <th>2475</th>\n",
              "      <td>BNK48: Girls Don't Cry</td>\n",
              "      <td>Nawapol Thamrongrattanarit</td>\n",
              "      <td>Unknown</td>\n",
              "      <td>Thailand</td>\n",
              "      <td>2019-03-01</td>\n",
              "      <td>2018</td>\n",
              "      <td>TV-14</td>\n",
              "      <td>108 min</td>\n",
              "      <td>Documentaries, International Movies, Music &amp; M...</td>\n",
              "      <td>Members of the Thai idol girl group BNK48 open...</td>\n",
              "      <td>0.384722</td>\n",
              "    </tr>\n",
              "    <tr>\n",
              "      <th>1184</th>\n",
              "      <td>Bigflo &amp; Oli: Hip Hop Frenzy</td>\n",
              "      <td>Bigflo &amp; Oli, Jérémie Levypon</td>\n",
              "      <td>Bigflo &amp; Oli</td>\n",
              "      <td>France</td>\n",
              "      <td>2020-10-08</td>\n",
              "      <td>2020</td>\n",
              "      <td>TV-MA</td>\n",
              "      <td>100 min</td>\n",
              "      <td>Documentaries, International Movies, Music &amp; M...</td>\n",
              "      <td>Go backstage with French rap duo Bigflo &amp; Oli ...</td>\n",
              "      <td>0.383038</td>\n",
              "    </tr>\n",
              "  </tbody>\n",
              "</table>\n",
              "</div>"
            ],
            "text/plain": [
              "                             title                       director  \\\n",
              "5769                   Tokyo Idols                   Kyoko Miyake   \n",
              "2595           Mexicanos de Bronce     Julio Fernández Talamantes   \n",
              "2021               Wandering Stars      Syrine Boulanouar, Nekfeu   \n",
              "2475        BNK48: Girls Don't Cry     Nawapol Thamrongrattanarit   \n",
              "1184  Bigflo & Oli: Hip Hop Frenzy  Bigflo & Oli, Jérémie Levypon   \n",
              "\n",
              "              cast                        country date_added  release_year  \\\n",
              "5769       Unknown  United Kingdom, Canada, Japan 2017-10-01          2017   \n",
              "2595       Unknown                         Mexico 2018-12-31          2016   \n",
              "2021        Nekfeu                         France 2019-12-01          2019   \n",
              "2475       Unknown                       Thailand 2019-03-01          2018   \n",
              "1184  Bigflo & Oli                         France 2020-10-08          2020   \n",
              "\n",
              "     rating duration                                          listed_in  \\\n",
              "5769  TV-14   89 min  Documentaries, International Movies, Music & M...   \n",
              "2595  TV-MA  100 min  Documentaries, International Movies, Music & M...   \n",
              "2021  TV-MA   95 min  Documentaries, International Movies, Music & M...   \n",
              "2475  TV-14  108 min  Documentaries, International Movies, Music & M...   \n",
              "1184  TV-MA  100 min  Documentaries, International Movies, Music & M...   \n",
              "\n",
              "                                            description     Score  \n",
              "5769  This documentary follows J-Pop idol Rio and he...  0.440081  \n",
              "2595  When street vices keep them coming back, three...  0.422528  \n",
              "2021  Navigating creative pressures and personal ups...  0.396516  \n",
              "2475  Members of the Thai idol girl group BNK48 open...  0.384722  \n",
              "1184  Go backstage with French rap duo Bigflo & Oli ...  0.383038  "
            ]
          },
          "execution_count": 82,
          "metadata": {},
          "output_type": "execute_result"
        }
      ],
      "source": [
        "rec_games = get_recommendations('We Are One')\n",
        "rec_games"
      ]
    },
    {
      "cell_type": "markdown",
      "metadata": {
        "id": "5IIlZGc5Vl6W"
      },
      "source": [
        "This code retrieves the top recommended items similar to the title **\"We Are One\"** using the previously defined recommendation function. The result is stored in `rec_games`, which is a DataFrame containing the recommended titles along with their similarity scores"
      ]
    },
    {
      "cell_type": "code",
      "execution_count": 83,
      "metadata": {
        "colab": {
          "base_uri": "https://localhost:8080/",
          "height": 293
        },
        "id": "aNIgsjnqcAAz",
        "outputId": "3791da76-bb84-4129-b0b5-afe2c0990eca"
      },
      "outputs": [
        {
          "data": {
            "text/html": [
              "<div>\n",
              "<style scoped>\n",
              "    .dataframe tbody tr th:only-of-type {\n",
              "        vertical-align: middle;\n",
              "    }\n",
              "\n",
              "    .dataframe tbody tr th {\n",
              "        vertical-align: top;\n",
              "    }\n",
              "\n",
              "    .dataframe thead th {\n",
              "        text-align: right;\n",
              "    }\n",
              "</style>\n",
              "<table border=\"1\" class=\"dataframe\">\n",
              "  <thead>\n",
              "    <tr style=\"text-align: right;\">\n",
              "      <th></th>\n",
              "      <th>title</th>\n",
              "      <th>director</th>\n",
              "      <th>cast</th>\n",
              "      <th>country</th>\n",
              "      <th>date_added</th>\n",
              "      <th>release_year</th>\n",
              "      <th>rating</th>\n",
              "      <th>duration</th>\n",
              "      <th>listed_in</th>\n",
              "      <th>description</th>\n",
              "      <th>Score</th>\n",
              "    </tr>\n",
              "  </thead>\n",
              "  <tbody>\n",
              "    <tr>\n",
              "      <th>1184</th>\n",
              "      <td>Bigflo &amp; Oli: Hip Hop Frenzy</td>\n",
              "      <td>Bigflo &amp; Oli, Jérémie Levypon</td>\n",
              "      <td>Bigflo &amp; Oli</td>\n",
              "      <td>France</td>\n",
              "      <td>2020-10-08</td>\n",
              "      <td>2020</td>\n",
              "      <td>TV-MA</td>\n",
              "      <td>100 min</td>\n",
              "      <td>Documentaries, International Movies, Music &amp; M...</td>\n",
              "      <td>Go backstage with French rap duo Bigflo &amp; Oli ...</td>\n",
              "      <td>0.410794</td>\n",
              "    </tr>\n",
              "    <tr>\n",
              "      <th>1408</th>\n",
              "      <td>We Are One</td>\n",
              "      <td>Stéphane de Freitas</td>\n",
              "      <td>Unknown</td>\n",
              "      <td>France</td>\n",
              "      <td>2020-07-14</td>\n",
              "      <td>2020</td>\n",
              "      <td>TV-MA</td>\n",
              "      <td>86 min</td>\n",
              "      <td>Documentaries, International Movies, Music &amp; M...</td>\n",
              "      <td>Activists around the world fight injustice and...</td>\n",
              "      <td>0.396516</td>\n",
              "    </tr>\n",
              "    <tr>\n",
              "      <th>3914</th>\n",
              "      <td>Avicii: True Stories</td>\n",
              "      <td>Levan Tsikurishvili</td>\n",
              "      <td>Avicii</td>\n",
              "      <td>Sweden, Netherlands</td>\n",
              "      <td>2018-12-28</td>\n",
              "      <td>2017</td>\n",
              "      <td>TV-MA</td>\n",
              "      <td>97 min</td>\n",
              "      <td>Documentaries, International Movies, Music &amp; M...</td>\n",
              "      <td>Follow the meteoric rise of Tim Bergling, aka ...</td>\n",
              "      <td>0.376202</td>\n",
              "    </tr>\n",
              "    <tr>\n",
              "      <th>2595</th>\n",
              "      <td>Mexicanos de Bronce</td>\n",
              "      <td>Julio Fernández Talamantes</td>\n",
              "      <td>Unknown</td>\n",
              "      <td>Mexico</td>\n",
              "      <td>2018-12-31</td>\n",
              "      <td>2016</td>\n",
              "      <td>TV-MA</td>\n",
              "      <td>100 min</td>\n",
              "      <td>Documentaries, International Movies, Music &amp; M...</td>\n",
              "      <td>When street vices keep them coming back, three...</td>\n",
              "      <td>0.372044</td>\n",
              "    </tr>\n",
              "    <tr>\n",
              "      <th>1254</th>\n",
              "      <td>GIMS: On the Record</td>\n",
              "      <td>Florent Bodin</td>\n",
              "      <td>Maître Gims</td>\n",
              "      <td>France</td>\n",
              "      <td>2020-09-17</td>\n",
              "      <td>2020</td>\n",
              "      <td>TV-MA</td>\n",
              "      <td>96 min</td>\n",
              "      <td>Documentaries, International Movies, Music &amp; M...</td>\n",
              "      <td>Go backstage with beloved rap superstar Gims i...</td>\n",
              "      <td>0.356806</td>\n",
              "    </tr>\n",
              "  </tbody>\n",
              "</table>\n",
              "</div>"
            ],
            "text/plain": [
              "                             title                       director  \\\n",
              "1184  Bigflo & Oli: Hip Hop Frenzy  Bigflo & Oli, Jérémie Levypon   \n",
              "1408                    We Are One            Stéphane de Freitas   \n",
              "3914          Avicii: True Stories            Levan Tsikurishvili   \n",
              "2595           Mexicanos de Bronce     Julio Fernández Talamantes   \n",
              "1254           GIMS: On the Record                  Florent Bodin   \n",
              "\n",
              "              cast              country date_added  release_year rating  \\\n",
              "1184  Bigflo & Oli               France 2020-10-08          2020  TV-MA   \n",
              "1408       Unknown               France 2020-07-14          2020  TV-MA   \n",
              "3914        Avicii  Sweden, Netherlands 2018-12-28          2017  TV-MA   \n",
              "2595       Unknown               Mexico 2018-12-31          2016  TV-MA   \n",
              "1254   Maître Gims               France 2020-09-17          2020  TV-MA   \n",
              "\n",
              "     duration                                          listed_in  \\\n",
              "1184  100 min  Documentaries, International Movies, Music & M...   \n",
              "1408   86 min  Documentaries, International Movies, Music & M...   \n",
              "3914   97 min  Documentaries, International Movies, Music & M...   \n",
              "2595  100 min  Documentaries, International Movies, Music & M...   \n",
              "1254   96 min  Documentaries, International Movies, Music & M...   \n",
              "\n",
              "                                            description     Score  \n",
              "1184  Go backstage with French rap duo Bigflo & Oli ...  0.410794  \n",
              "1408  Activists around the world fight injustice and...  0.396516  \n",
              "3914  Follow the meteoric rise of Tim Bergling, aka ...  0.376202  \n",
              "2595  When street vices keep them coming back, three...  0.372044  \n",
              "1254  Go backstage with beloved rap superstar Gims i...  0.356806  "
            ]
          },
          "execution_count": 83,
          "metadata": {},
          "output_type": "execute_result"
        }
      ],
      "source": [
        "rec_games = get_recommendations('Wandering Stars')\n",
        "rec_games"
      ]
    },
    {
      "cell_type": "markdown",
      "metadata": {
        "id": "SRQhO7fhV27-"
      },
      "source": [
        "This code retrieves the top recommended items similar to the title **\"Wandering Stars\"** using the previously defined recommendation function. The result is stored in `rec_games`, which is a DataFrame containing the recommended titles along with their similarity scores"
      ]
    },
    {
      "cell_type": "code",
      "execution_count": 84,
      "metadata": {
        "colab": {
          "base_uri": "https://localhost:8080/",
          "height": 293
        },
        "id": "jWCA4ed7ceHD",
        "outputId": "46948015-abb8-409a-f323-4126a7d515c8"
      },
      "outputs": [
        {
          "data": {
            "text/html": [
              "<div>\n",
              "<style scoped>\n",
              "    .dataframe tbody tr th:only-of-type {\n",
              "        vertical-align: middle;\n",
              "    }\n",
              "\n",
              "    .dataframe tbody tr th {\n",
              "        vertical-align: top;\n",
              "    }\n",
              "\n",
              "    .dataframe thead th {\n",
              "        text-align: right;\n",
              "    }\n",
              "</style>\n",
              "<table border=\"1\" class=\"dataframe\">\n",
              "  <thead>\n",
              "    <tr style=\"text-align: right;\">\n",
              "      <th></th>\n",
              "      <th>title</th>\n",
              "      <th>director</th>\n",
              "      <th>cast</th>\n",
              "      <th>country</th>\n",
              "      <th>date_added</th>\n",
              "      <th>release_year</th>\n",
              "      <th>rating</th>\n",
              "      <th>duration</th>\n",
              "      <th>listed_in</th>\n",
              "      <th>description</th>\n",
              "      <th>Score</th>\n",
              "    </tr>\n",
              "  </thead>\n",
              "  <tbody>\n",
              "    <tr>\n",
              "      <th>1184</th>\n",
              "      <td>Bigflo &amp; Oli: Hip Hop Frenzy</td>\n",
              "      <td>Bigflo &amp; Oli, Jérémie Levypon</td>\n",
              "      <td>Bigflo &amp; Oli</td>\n",
              "      <td>France</td>\n",
              "      <td>2020-10-08</td>\n",
              "      <td>2020</td>\n",
              "      <td>TV-MA</td>\n",
              "      <td>100 min</td>\n",
              "      <td>Documentaries, International Movies, Music &amp; M...</td>\n",
              "      <td>Go backstage with French rap duo Bigflo &amp; Oli ...</td>\n",
              "      <td>0.547545</td>\n",
              "    </tr>\n",
              "    <tr>\n",
              "      <th>2595</th>\n",
              "      <td>Mexicanos de Bronce</td>\n",
              "      <td>Julio Fernández Talamantes</td>\n",
              "      <td>Unknown</td>\n",
              "      <td>Mexico</td>\n",
              "      <td>2018-12-31</td>\n",
              "      <td>2016</td>\n",
              "      <td>TV-MA</td>\n",
              "      <td>100 min</td>\n",
              "      <td>Documentaries, International Movies, Music &amp; M...</td>\n",
              "      <td>When street vices keep them coming back, three...</td>\n",
              "      <td>0.396464</td>\n",
              "    </tr>\n",
              "    <tr>\n",
              "      <th>1408</th>\n",
              "      <td>We Are One</td>\n",
              "      <td>Stéphane de Freitas</td>\n",
              "      <td>Unknown</td>\n",
              "      <td>France</td>\n",
              "      <td>2020-07-14</td>\n",
              "      <td>2020</td>\n",
              "      <td>TV-MA</td>\n",
              "      <td>86 min</td>\n",
              "      <td>Documentaries, International Movies, Music &amp; M...</td>\n",
              "      <td>Activists around the world fight injustice and...</td>\n",
              "      <td>0.369185</td>\n",
              "    </tr>\n",
              "    <tr>\n",
              "      <th>2021</th>\n",
              "      <td>Wandering Stars</td>\n",
              "      <td>Syrine Boulanouar, Nekfeu</td>\n",
              "      <td>Nekfeu</td>\n",
              "      <td>France</td>\n",
              "      <td>2019-12-01</td>\n",
              "      <td>2019</td>\n",
              "      <td>TV-MA</td>\n",
              "      <td>95 min</td>\n",
              "      <td>Documentaries, International Movies, Music &amp; M...</td>\n",
              "      <td>Navigating creative pressures and personal ups...</td>\n",
              "      <td>0.356806</td>\n",
              "    </tr>\n",
              "    <tr>\n",
              "      <th>1500</th>\n",
              "      <td>One Take</td>\n",
              "      <td>Manatsanun Phanlerdwongsakul</td>\n",
              "      <td>BNK48</td>\n",
              "      <td>Thailand</td>\n",
              "      <td>2020-06-18</td>\n",
              "      <td>2020</td>\n",
              "      <td>TV-G</td>\n",
              "      <td>86 min</td>\n",
              "      <td>Documentaries, International Movies, Music &amp; M...</td>\n",
              "      <td>Members of Thai girl group BNK48 share the ups...</td>\n",
              "      <td>0.310345</td>\n",
              "    </tr>\n",
              "  </tbody>\n",
              "</table>\n",
              "</div>"
            ],
            "text/plain": [
              "                             title                       director  \\\n",
              "1184  Bigflo & Oli: Hip Hop Frenzy  Bigflo & Oli, Jérémie Levypon   \n",
              "2595           Mexicanos de Bronce     Julio Fernández Talamantes   \n",
              "1408                    We Are One            Stéphane de Freitas   \n",
              "2021               Wandering Stars      Syrine Boulanouar, Nekfeu   \n",
              "1500                      One Take   Manatsanun Phanlerdwongsakul   \n",
              "\n",
              "              cast   country date_added  release_year rating duration  \\\n",
              "1184  Bigflo & Oli    France 2020-10-08          2020  TV-MA  100 min   \n",
              "2595       Unknown    Mexico 2018-12-31          2016  TV-MA  100 min   \n",
              "1408       Unknown    France 2020-07-14          2020  TV-MA   86 min   \n",
              "2021        Nekfeu    France 2019-12-01          2019  TV-MA   95 min   \n",
              "1500         BNK48  Thailand 2020-06-18          2020   TV-G   86 min   \n",
              "\n",
              "                                              listed_in  \\\n",
              "1184  Documentaries, International Movies, Music & M...   \n",
              "2595  Documentaries, International Movies, Music & M...   \n",
              "1408  Documentaries, International Movies, Music & M...   \n",
              "2021  Documentaries, International Movies, Music & M...   \n",
              "1500  Documentaries, International Movies, Music & M...   \n",
              "\n",
              "                                            description     Score  \n",
              "1184  Go backstage with French rap duo Bigflo & Oli ...  0.547545  \n",
              "2595  When street vices keep them coming back, three...  0.396464  \n",
              "1408  Activists around the world fight injustice and...  0.369185  \n",
              "2021  Navigating creative pressures and personal ups...  0.356806  \n",
              "1500  Members of Thai girl group BNK48 share the ups...  0.310345  "
            ]
          },
          "execution_count": 84,
          "metadata": {},
          "output_type": "execute_result"
        }
      ],
      "source": [
        "rec_games = get_recommendations('GIMS: On the Record')\n",
        "rec_games"
      ]
    },
    {
      "cell_type": "markdown",
      "metadata": {
        "id": "uSk2L1oNV6p9"
      },
      "source": [
        "This code retrieves the top recommended items similar to the title **\"GIMS: On the Record\"** using the previously defined recommendation function. The result is stored in `rec_games`, which is a DataFrame containing the recommended titles along with their similarity scores.\n"
      ]
    },
    {
      "cell_type": "code",
      "execution_count": 85,
      "metadata": {
        "colab": {
          "base_uri": "https://localhost:8080/",
          "height": 293
        },
        "id": "WWuuKA3omlDe",
        "outputId": "c329cddb-8625-4e55-e598-54bca74f1fb7"
      },
      "outputs": [
        {
          "data": {
            "text/html": [
              "<div>\n",
              "<style scoped>\n",
              "    .dataframe tbody tr th:only-of-type {\n",
              "        vertical-align: middle;\n",
              "    }\n",
              "\n",
              "    .dataframe tbody tr th {\n",
              "        vertical-align: top;\n",
              "    }\n",
              "\n",
              "    .dataframe thead th {\n",
              "        text-align: right;\n",
              "    }\n",
              "</style>\n",
              "<table border=\"1\" class=\"dataframe\">\n",
              "  <thead>\n",
              "    <tr style=\"text-align: right;\">\n",
              "      <th></th>\n",
              "      <th>title</th>\n",
              "      <th>director</th>\n",
              "      <th>cast</th>\n",
              "      <th>country</th>\n",
              "      <th>date_added</th>\n",
              "      <th>release_year</th>\n",
              "      <th>rating</th>\n",
              "      <th>duration</th>\n",
              "      <th>listed_in</th>\n",
              "      <th>description</th>\n",
              "      <th>Score</th>\n",
              "    </tr>\n",
              "  </thead>\n",
              "  <tbody>\n",
              "    <tr>\n",
              "      <th>36</th>\n",
              "      <td>Naruto the Movie 3: Guardians of the Crescent ...</td>\n",
              "      <td>Toshiyuki Tsuru</td>\n",
              "      <td>Junko Takeuchi, Chie Nakamura, Yoichi Masukawa...</td>\n",
              "      <td>Japan</td>\n",
              "      <td>2021-09-15</td>\n",
              "      <td>2006</td>\n",
              "      <td>TV-PG</td>\n",
              "      <td>95 min</td>\n",
              "      <td>Action &amp; Adventure, Anime Features, Internatio...</td>\n",
              "      <td>Exuberant ninja Naruto teams up with his pals ...</td>\n",
              "      <td>0.553673</td>\n",
              "    </tr>\n",
              "    <tr>\n",
              "      <th>32</th>\n",
              "      <td>Naruto Shippûden the Movie: The Will of Fire</td>\n",
              "      <td>Masahiko Murata</td>\n",
              "      <td>Junko Takeuchi, Chie Nakamura, Kazuhiko Inoue,...</td>\n",
              "      <td>Japan</td>\n",
              "      <td>2021-09-15</td>\n",
              "      <td>2009</td>\n",
              "      <td>TV-PG</td>\n",
              "      <td>96 min</td>\n",
              "      <td>Action &amp; Adventure, Anime Features, Internatio...</td>\n",
              "      <td>When four out of five ninja villages are destr...</td>\n",
              "      <td>0.551989</td>\n",
              "    </tr>\n",
              "    <tr>\n",
              "      <th>31</th>\n",
              "      <td>Naruto Shippûden the Movie: Bonds</td>\n",
              "      <td>Hajime Kamegaki</td>\n",
              "      <td>Junko Takeuchi, Chie Nakamura, Noriaki Sugiyam...</td>\n",
              "      <td>Japan</td>\n",
              "      <td>2021-09-15</td>\n",
              "      <td>2008</td>\n",
              "      <td>TV-PG</td>\n",
              "      <td>93 min</td>\n",
              "      <td>Action &amp; Adventure, Anime Features, Internatio...</td>\n",
              "      <td>When strange ninjas ambush the village of Kono...</td>\n",
              "      <td>0.492951</td>\n",
              "    </tr>\n",
              "    <tr>\n",
              "      <th>30</th>\n",
              "      <td>Naruto Shippuden the Movie: Blood Prison</td>\n",
              "      <td>Masahiko Murata</td>\n",
              "      <td>Junko Takeuchi, Chie Nakamura, Rikiya Koyama, ...</td>\n",
              "      <td>Japan</td>\n",
              "      <td>2021-09-15</td>\n",
              "      <td>2011</td>\n",
              "      <td>TV-14</td>\n",
              "      <td>102 min</td>\n",
              "      <td>Action &amp; Adventure, Anime Features, Internatio...</td>\n",
              "      <td>Mistakenly accused of an attack on the Fourth ...</td>\n",
              "      <td>0.491002</td>\n",
              "    </tr>\n",
              "    <tr>\n",
              "      <th>4958</th>\n",
              "      <td>Naruto Shippuden : Blood Prison</td>\n",
              "      <td>Masahiko Murata</td>\n",
              "      <td>Junko Takeuchi, Chie Nakamura, Rikiya Koyama, ...</td>\n",
              "      <td>Japan</td>\n",
              "      <td>2017-09-01</td>\n",
              "      <td>2011</td>\n",
              "      <td>TV-14</td>\n",
              "      <td>102 min</td>\n",
              "      <td>Action &amp; Adventure, Anime Features, Internatio...</td>\n",
              "      <td>Mistakenly accused of an attack on the Fourth ...</td>\n",
              "      <td>0.484920</td>\n",
              "    </tr>\n",
              "  </tbody>\n",
              "</table>\n",
              "</div>"
            ],
            "text/plain": [
              "                                                  title         director  \\\n",
              "36    Naruto the Movie 3: Guardians of the Crescent ...  Toshiyuki Tsuru   \n",
              "32         Naruto Shippûden the Movie: The Will of Fire  Masahiko Murata   \n",
              "31                    Naruto Shippûden the Movie: Bonds  Hajime Kamegaki   \n",
              "30             Naruto Shippuden the Movie: Blood Prison  Masahiko Murata   \n",
              "4958                    Naruto Shippuden : Blood Prison  Masahiko Murata   \n",
              "\n",
              "                                                   cast country date_added  \\\n",
              "36    Junko Takeuchi, Chie Nakamura, Yoichi Masukawa...   Japan 2021-09-15   \n",
              "32    Junko Takeuchi, Chie Nakamura, Kazuhiko Inoue,...   Japan 2021-09-15   \n",
              "31    Junko Takeuchi, Chie Nakamura, Noriaki Sugiyam...   Japan 2021-09-15   \n",
              "30    Junko Takeuchi, Chie Nakamura, Rikiya Koyama, ...   Japan 2021-09-15   \n",
              "4958  Junko Takeuchi, Chie Nakamura, Rikiya Koyama, ...   Japan 2017-09-01   \n",
              "\n",
              "      release_year rating duration  \\\n",
              "36            2006  TV-PG   95 min   \n",
              "32            2009  TV-PG   96 min   \n",
              "31            2008  TV-PG   93 min   \n",
              "30            2011  TV-14  102 min   \n",
              "4958          2011  TV-14  102 min   \n",
              "\n",
              "                                              listed_in  \\\n",
              "36    Action & Adventure, Anime Features, Internatio...   \n",
              "32    Action & Adventure, Anime Features, Internatio...   \n",
              "31    Action & Adventure, Anime Features, Internatio...   \n",
              "30    Action & Adventure, Anime Features, Internatio...   \n",
              "4958  Action & Adventure, Anime Features, Internatio...   \n",
              "\n",
              "                                            description     Score  \n",
              "36    Exuberant ninja Naruto teams up with his pals ...  0.553673  \n",
              "32    When four out of five ninja villages are destr...  0.551989  \n",
              "31    When strange ninjas ambush the village of Kono...  0.492951  \n",
              "30    Mistakenly accused of an attack on the Fourth ...  0.491002  \n",
              "4958  Mistakenly accused of an attack on the Fourth ...  0.484920  "
            ]
          },
          "execution_count": 85,
          "metadata": {},
          "output_type": "execute_result"
        }
      ],
      "source": [
        "rec_games = get_recommendations('Naruto Shippuden: The Movie')\n",
        "rec_games"
      ]
    },
    {
      "cell_type": "markdown",
      "metadata": {
        "id": "StAz6JynV_1V"
      },
      "source": [
        "This code retrieves the top recommended items similar to the title **\"Naruto Shippuden: The Movie\"** using the previously defined recommendation function. The result is stored in `rec_games`, which is a DataFrame containing the recommended titles along with their similarity scores."
      ]
    },
    {
      "cell_type": "code",
      "execution_count": 86,
      "metadata": {
        "colab": {
          "base_uri": "https://localhost:8080/",
          "height": 293
        },
        "id": "KSSCb5DkpKOw",
        "outputId": "8c155df7-1f0c-435b-90ea-9790bd1017fb"
      },
      "outputs": [
        {
          "data": {
            "text/html": [
              "<div>\n",
              "<style scoped>\n",
              "    .dataframe tbody tr th:only-of-type {\n",
              "        vertical-align: middle;\n",
              "    }\n",
              "\n",
              "    .dataframe tbody tr th {\n",
              "        vertical-align: top;\n",
              "    }\n",
              "\n",
              "    .dataframe thead th {\n",
              "        text-align: right;\n",
              "    }\n",
              "</style>\n",
              "<table border=\"1\" class=\"dataframe\">\n",
              "  <thead>\n",
              "    <tr style=\"text-align: right;\">\n",
              "      <th></th>\n",
              "      <th>title</th>\n",
              "      <th>director</th>\n",
              "      <th>cast</th>\n",
              "      <th>country</th>\n",
              "      <th>date_added</th>\n",
              "      <th>release_year</th>\n",
              "      <th>rating</th>\n",
              "      <th>duration</th>\n",
              "      <th>listed_in</th>\n",
              "      <th>description</th>\n",
              "      <th>Score</th>\n",
              "    </tr>\n",
              "  </thead>\n",
              "  <tbody>\n",
              "    <tr>\n",
              "      <th>1408</th>\n",
              "      <td>We Are One</td>\n",
              "      <td>Stéphane de Freitas</td>\n",
              "      <td>Unknown</td>\n",
              "      <td>France</td>\n",
              "      <td>2020-07-14</td>\n",
              "      <td>2020</td>\n",
              "      <td>TV-MA</td>\n",
              "      <td>86 min</td>\n",
              "      <td>Documentaries, International Movies, Music &amp; M...</td>\n",
              "      <td>Activists around the world fight injustice and...</td>\n",
              "      <td>0.422528</td>\n",
              "    </tr>\n",
              "    <tr>\n",
              "      <th>1184</th>\n",
              "      <td>Bigflo &amp; Oli: Hip Hop Frenzy</td>\n",
              "      <td>Bigflo &amp; Oli, Jérémie Levypon</td>\n",
              "      <td>Bigflo &amp; Oli</td>\n",
              "      <td>France</td>\n",
              "      <td>2020-10-08</td>\n",
              "      <td>2020</td>\n",
              "      <td>TV-MA</td>\n",
              "      <td>100 min</td>\n",
              "      <td>Documentaries, International Movies, Music &amp; M...</td>\n",
              "      <td>Go backstage with French rap duo Bigflo &amp; Oli ...</td>\n",
              "      <td>0.418154</td>\n",
              "    </tr>\n",
              "    <tr>\n",
              "      <th>2475</th>\n",
              "      <td>BNK48: Girls Don't Cry</td>\n",
              "      <td>Nawapol Thamrongrattanarit</td>\n",
              "      <td>Unknown</td>\n",
              "      <td>Thailand</td>\n",
              "      <td>2019-03-01</td>\n",
              "      <td>2018</td>\n",
              "      <td>TV-14</td>\n",
              "      <td>108 min</td>\n",
              "      <td>Documentaries, International Movies, Music &amp; M...</td>\n",
              "      <td>Members of the Thai idol girl group BNK48 open...</td>\n",
              "      <td>0.399039</td>\n",
              "    </tr>\n",
              "    <tr>\n",
              "      <th>1254</th>\n",
              "      <td>GIMS: On the Record</td>\n",
              "      <td>Florent Bodin</td>\n",
              "      <td>Maître Gims</td>\n",
              "      <td>France</td>\n",
              "      <td>2020-09-17</td>\n",
              "      <td>2020</td>\n",
              "      <td>TV-MA</td>\n",
              "      <td>96 min</td>\n",
              "      <td>Documentaries, International Movies, Music &amp; M...</td>\n",
              "      <td>Go backstage with beloved rap superstar Gims i...</td>\n",
              "      <td>0.396464</td>\n",
              "    </tr>\n",
              "    <tr>\n",
              "      <th>5751</th>\n",
              "      <td>This Was Tomorrow</td>\n",
              "      <td>Wim Bonte</td>\n",
              "      <td>Unknown</td>\n",
              "      <td>Belgium</td>\n",
              "      <td>2015-12-15</td>\n",
              "      <td>2015</td>\n",
              "      <td>NR</td>\n",
              "      <td>77 min</td>\n",
              "      <td>Documentaries, International Movies, Music &amp; M...</td>\n",
              "      <td>The Tomorrowland music festival marks its 10th...</td>\n",
              "      <td>0.388918</td>\n",
              "    </tr>\n",
              "  </tbody>\n",
              "</table>\n",
              "</div>"
            ],
            "text/plain": [
              "                             title                       director  \\\n",
              "1408                    We Are One            Stéphane de Freitas   \n",
              "1184  Bigflo & Oli: Hip Hop Frenzy  Bigflo & Oli, Jérémie Levypon   \n",
              "2475        BNK48: Girls Don't Cry     Nawapol Thamrongrattanarit   \n",
              "1254           GIMS: On the Record                  Florent Bodin   \n",
              "5751             This Was Tomorrow                      Wim Bonte   \n",
              "\n",
              "              cast   country date_added  release_year rating duration  \\\n",
              "1408       Unknown    France 2020-07-14          2020  TV-MA   86 min   \n",
              "1184  Bigflo & Oli    France 2020-10-08          2020  TV-MA  100 min   \n",
              "2475       Unknown  Thailand 2019-03-01          2018  TV-14  108 min   \n",
              "1254   Maître Gims    France 2020-09-17          2020  TV-MA   96 min   \n",
              "5751       Unknown   Belgium 2015-12-15          2015     NR   77 min   \n",
              "\n",
              "                                              listed_in  \\\n",
              "1408  Documentaries, International Movies, Music & M...   \n",
              "1184  Documentaries, International Movies, Music & M...   \n",
              "2475  Documentaries, International Movies, Music & M...   \n",
              "1254  Documentaries, International Movies, Music & M...   \n",
              "5751  Documentaries, International Movies, Music & M...   \n",
              "\n",
              "                                            description     Score  \n",
              "1408  Activists around the world fight injustice and...  0.422528  \n",
              "1184  Go backstage with French rap duo Bigflo & Oli ...  0.418154  \n",
              "2475  Members of the Thai idol girl group BNK48 open...  0.399039  \n",
              "1254  Go backstage with beloved rap superstar Gims i...  0.396464  \n",
              "5751  The Tomorrowland music festival marks its 10th...  0.388918  "
            ]
          },
          "execution_count": 86,
          "metadata": {},
          "output_type": "execute_result"
        }
      ],
      "source": [
        "rec_games = get_recommendations('Mexicanos de Bronce')\n",
        "rec_games"
      ]
    },
    {
      "cell_type": "markdown",
      "metadata": {
        "id": "yeL0sDr3WFad"
      },
      "source": [
        "This code retrieves the top recommended items similar to the title **\"Mexicanos de Bronce\"** using the previously defined recommendation function. The result is stored in `rec_games`, which is a DataFrame containing the recommended titles along with their similarity scores."
      ]
    }
  ],
  "metadata": {
    "colab": {
      "provenance": []
    },
    "kernelspec": {
      "display_name": "Python 3",
      "name": "python3"
    },
    "language_info": {
      "codemirror_mode": {
        "name": "ipython",
        "version": 3
      },
      "file_extension": ".py",
      "mimetype": "text/x-python",
      "name": "python",
      "nbconvert_exporter": "python",
      "pygments_lexer": "ipython3",
      "version": "3.10.11"
    }
  },
  "nbformat": 4,
  "nbformat_minor": 0
}
